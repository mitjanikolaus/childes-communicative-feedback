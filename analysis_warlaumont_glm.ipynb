{
 "cells": [
  {
   "cell_type": "code",
   "execution_count": 4,
   "metadata": {},
   "outputs": [],
   "source": [
    "import pandas as pd\n",
    "import matplotlib.pyplot as plt\n",
    "plt.rcParams['figure.figsize'] = [15, 10]"
   ]
  },
  {
   "cell_type": "code",
   "execution_count": 5,
   "metadata": {},
   "outputs": [
    {
     "name": "stdout",
     "output_type": "stream",
     "text": [
      "The rpy2.ipython extension is already loaded. To reload it, use:\n",
      "  %reload_ext rpy2.ipython\n"
     ]
    }
   ],
   "source": [
    "from rpy2.robjects.packages import importr\n",
    "\n",
    "utils = importr(\"utils\")\n",
    "utils.chooseCRANmirror(ind=1)\n",
    "#utils.install_packages('lme4')\n",
    "\n",
    "%load_ext rpy2.ipython"
   ]
  },
  {
   "cell_type": "code",
   "execution_count": 6,
   "metadata": {},
   "outputs": [
    {
     "data": {
      "text/plain": "   utterance_id speaker_code               tokens               pos       age  \\\n0           300          CHI         ['sit', '.']             ['v']  0.131579   \n1           333          CHI  ['a', 'mommy', '.']  ['det:art', 'n']  0.131579   \n2           336          CHI                ['.']          ['none']  0.131579   \n3           343          CHI                ['.']          ['none']  0.131579   \n4           350          CHI                ['.']          ['none']  0.131579   \n\n      corpus                                    transcript_file  \\\n0  Bernstein  /home/mitja/data/CHILDES/Bernstein/Children/Al...   \n1  Bernstein  /home/mitja/data/CHILDES/Bernstein/Children/Al...   \n2  Bernstein  /home/mitja/data/CHILDES/Bernstein/Children/Al...   \n3  Bernstein  /home/mitja/data/CHILDES/Bernstein/Children/Al...   \n4  Bernstein  /home/mitja/data/CHILDES/Bernstein/Children/Al...   \n\n        child_name speaker_code_next  start_time_next  ...  \\\n0  Bernstein_Alice               MOT          29650.0  ...   \n1  Bernstein_Alice               MOT         138685.0  ...   \n2  Bernstein_Alice               MOT         142428.0  ...   \n3  Bernstein_Alice               MOT         153962.0  ...   \n4  Bernstein_Alice               MOT         176230.0  ...   \n\n  response_speech_act  follow_up_transcript_raw  follow_up_start_time  \\\n0                  RT                all gone .               32175.0   \n1                  MK                eh &dɩdi .              140585.0   \n2                  ST                 &sɩ &zi .              152302.0   \n3                  ST                 &sɩ &zi .              173964.0   \n4                  YQ      &aɩa &la &næn &wæn .              200269.0   \n\n   follow_up_end_time  follow_up_is_speech_related follow_up_is_intelligible  \\\n0             39984.0                            1                         1   \n1            142428.0                            1                         0   \n2            153962.0                            1                         0   \n3            176230.0                            1                         0   \n4            208049.0                            1                         0   \n\n  follow_up_speech_act  response_latency  response_latency_follow_up  \\\n0                   ST               0.0                      2525.0   \n1                   YY               0.0                      1900.0   \n2                   YY               0.0                      9874.0   \n3                   YY               0.0                     20002.0   \n4                   YY               0.0                     24039.0   \n\n   has_response  \n0             1  \n1             1  \n2             1  \n3             1  \n4             1  \n\n[5 rows x 31 columns]",
      "text/html": "<div>\n<style scoped>\n    .dataframe tbody tr th:only-of-type {\n        vertical-align: middle;\n    }\n\n    .dataframe tbody tr th {\n        vertical-align: top;\n    }\n\n    .dataframe thead th {\n        text-align: right;\n    }\n</style>\n<table border=\"1\" class=\"dataframe\">\n  <thead>\n    <tr style=\"text-align: right;\">\n      <th></th>\n      <th>utterance_id</th>\n      <th>speaker_code</th>\n      <th>tokens</th>\n      <th>pos</th>\n      <th>age</th>\n      <th>corpus</th>\n      <th>transcript_file</th>\n      <th>child_name</th>\n      <th>speaker_code_next</th>\n      <th>start_time_next</th>\n      <th>...</th>\n      <th>response_speech_act</th>\n      <th>follow_up_transcript_raw</th>\n      <th>follow_up_start_time</th>\n      <th>follow_up_end_time</th>\n      <th>follow_up_is_speech_related</th>\n      <th>follow_up_is_intelligible</th>\n      <th>follow_up_speech_act</th>\n      <th>response_latency</th>\n      <th>response_latency_follow_up</th>\n      <th>has_response</th>\n    </tr>\n  </thead>\n  <tbody>\n    <tr>\n      <th>0</th>\n      <td>300</td>\n      <td>CHI</td>\n      <td>['sit', '.']</td>\n      <td>['v']</td>\n      <td>0.131579</td>\n      <td>Bernstein</td>\n      <td>/home/mitja/data/CHILDES/Bernstein/Children/Al...</td>\n      <td>Bernstein_Alice</td>\n      <td>MOT</td>\n      <td>29650.0</td>\n      <td>...</td>\n      <td>RT</td>\n      <td>all gone .</td>\n      <td>32175.0</td>\n      <td>39984.0</td>\n      <td>1</td>\n      <td>1</td>\n      <td>ST</td>\n      <td>0.0</td>\n      <td>2525.0</td>\n      <td>1</td>\n    </tr>\n    <tr>\n      <th>1</th>\n      <td>333</td>\n      <td>CHI</td>\n      <td>['a', 'mommy', '.']</td>\n      <td>['det:art', 'n']</td>\n      <td>0.131579</td>\n      <td>Bernstein</td>\n      <td>/home/mitja/data/CHILDES/Bernstein/Children/Al...</td>\n      <td>Bernstein_Alice</td>\n      <td>MOT</td>\n      <td>138685.0</td>\n      <td>...</td>\n      <td>MK</td>\n      <td>eh &amp;dɩdi .</td>\n      <td>140585.0</td>\n      <td>142428.0</td>\n      <td>1</td>\n      <td>0</td>\n      <td>YY</td>\n      <td>0.0</td>\n      <td>1900.0</td>\n      <td>1</td>\n    </tr>\n    <tr>\n      <th>2</th>\n      <td>336</td>\n      <td>CHI</td>\n      <td>['.']</td>\n      <td>['none']</td>\n      <td>0.131579</td>\n      <td>Bernstein</td>\n      <td>/home/mitja/data/CHILDES/Bernstein/Children/Al...</td>\n      <td>Bernstein_Alice</td>\n      <td>MOT</td>\n      <td>142428.0</td>\n      <td>...</td>\n      <td>ST</td>\n      <td>&amp;sɩ &amp;zi .</td>\n      <td>152302.0</td>\n      <td>153962.0</td>\n      <td>1</td>\n      <td>0</td>\n      <td>YY</td>\n      <td>0.0</td>\n      <td>9874.0</td>\n      <td>1</td>\n    </tr>\n    <tr>\n      <th>3</th>\n      <td>343</td>\n      <td>CHI</td>\n      <td>['.']</td>\n      <td>['none']</td>\n      <td>0.131579</td>\n      <td>Bernstein</td>\n      <td>/home/mitja/data/CHILDES/Bernstein/Children/Al...</td>\n      <td>Bernstein_Alice</td>\n      <td>MOT</td>\n      <td>153962.0</td>\n      <td>...</td>\n      <td>ST</td>\n      <td>&amp;sɩ &amp;zi .</td>\n      <td>173964.0</td>\n      <td>176230.0</td>\n      <td>1</td>\n      <td>0</td>\n      <td>YY</td>\n      <td>0.0</td>\n      <td>20002.0</td>\n      <td>1</td>\n    </tr>\n    <tr>\n      <th>4</th>\n      <td>350</td>\n      <td>CHI</td>\n      <td>['.']</td>\n      <td>['none']</td>\n      <td>0.131579</td>\n      <td>Bernstein</td>\n      <td>/home/mitja/data/CHILDES/Bernstein/Children/Al...</td>\n      <td>Bernstein_Alice</td>\n      <td>MOT</td>\n      <td>176230.0</td>\n      <td>...</td>\n      <td>YQ</td>\n      <td>&amp;aɩa &amp;la &amp;næn &amp;wæn .</td>\n      <td>200269.0</td>\n      <td>208049.0</td>\n      <td>1</td>\n      <td>0</td>\n      <td>YY</td>\n      <td>0.0</td>\n      <td>24039.0</td>\n      <td>1</td>\n    </tr>\n  </tbody>\n</table>\n<p>5 rows × 31 columns</p>\n</div>"
     },
     "execution_count": 6,
     "metadata": {},
     "output_type": "execute_result"
    }
   ],
   "source": [
    "# Load data\n",
    "conversations = pd.read_csv(\"results/reproduce_warlaumont/conversations.csv\")\n",
    "\n",
    "# convert True/False to 0/1:\n",
    "conversations.replace({False: 0, True: 1}, inplace=True)\n",
    "\n",
    "# normalize age\n",
    "min_age, max_age = conversations[\"age\"].min(), conversations[\"age\"].max()\n",
    "conversations[\"age\"] = (conversations[\"age\"] - min_age) / (max_age - min_age) * (1 - 0)\n",
    "\n",
    "conversations.head()"
   ]
  },
  {
   "cell_type": "markdown",
   "metadata": {},
   "source": [
    "## Quality of communicative feedback/ Caregiver contingency\n"
   ]
  },
  {
   "cell_type": "markdown",
   "metadata": {},
   "source": [
    "### Timing:"
   ]
  },
  {
   "cell_type": "code",
   "execution_count": 11,
   "metadata": {},
   "outputs": [
    {
     "name": "stdout",
     "output_type": "stream",
     "text": [
      "Generalized linear mixed model fit by maximum likelihood (Laplace\n",
      "  Approximation) [glmerMod]\n",
      " Family: binomial  ( logit )\n",
      "Formula: has_response ~ utt_is_speech_related + age + (1 | child_name)\n",
      "   Data: conversations\n",
      "\n",
      "      AIC       BIC    logLik  deviance  df.resid \n",
      " 346280.8  346324.5 -173136.4  346272.8    406206 \n",
      "\n",
      "Scaled residuals: \n",
      "     Min       1Q   Median       3Q      Max \n",
      "-20.9536   0.0793   0.4759   0.5534   1.6412 \n",
      "\n",
      "Random effects:\n",
      " Groups     Name        Variance Std.Dev.\n",
      " child_name (Intercept) 3.049    1.746   \n",
      "Number of obs: 406210, groups:  child_name, 328\n",
      "\n",
      "Fixed effects:\n",
      "                       Estimate Std. Error z value Pr(>|z|)    \n",
      "(Intercept)           3.0507622  0.0001299   23487   <2e-16 ***\n",
      "utt_is_speech_related 0.5580216  0.0001299    4296   <2e-16 ***\n",
      "age                   1.1806747  0.0001299    9091   <2e-16 ***\n",
      "---\n",
      "Signif. codes:  0 ‘***’ 0.001 ‘**’ 0.01 ‘*’ 0.05 ‘.’ 0.1 ‘ ’ 1\n",
      "\n",
      "Correlation of Fixed Effects:\n",
      "            (Intr) utt___\n",
      "utt_s_spch_ 0.000        \n",
      "age         0.000  0.000 \n",
      "optimizer (Nelder_Mead) convergence code: 0 (OK)\n",
      "Model failed to converge with max|grad| = 0.544526 (tol = 0.002, component 1)\n",
      "Model is nearly unidentifiable: very large eigenvalue\n",
      " - Rescale variables?\n",
      "\n"
     ]
    }
   ],
   "source": [
    "%%R -i conversations\n",
    "library(lme4)\n",
    "\n",
    "m_caregiver_contingency<-glmer('has_response ~ utt_is_speech_related + age + (1 | child_name)', data=conversations, family=binomial)\n",
    "print(summary(m_caregiver_contingency))\n"
   ]
  },
  {
   "cell_type": "markdown",
   "metadata": {},
   "source": [
    "## Effect of communicative feedback\n",
    "### Positive Feedback: Timing"
   ]
  },
  {
   "cell_type": "code",
   "execution_count": 8,
   "metadata": {},
   "outputs": [
    {
     "name": "stderr",
     "output_type": "stream",
     "text": [
      "R[write to console]: Loading required package: Matrix\n",
      "\n"
     ]
    },
    {
     "name": "stdout",
     "output_type": "stream",
     "text": [
      "Generalized linear mixed model fit by maximum likelihood (Laplace\n",
      "  Approximation) [glmerMod]\n",
      " Family: binomial  ( logit )\n",
      "Formula: follow_up_is_speech_related ~ has_response + (1 | child_name)\n",
      "   Data: conversations_child_speech_related\n",
      "\n",
      "     AIC      BIC   logLik deviance df.resid \n",
      " 83238.2  83270.8 -41616.1  83232.2   392526 \n",
      "\n",
      "Scaled residuals: \n",
      "    Min      1Q  Median      3Q     Max \n",
      "-49.583   0.060   0.153   0.165   1.202 \n",
      "\n",
      "Random effects:\n",
      " Groups     Name        Variance Std.Dev.\n",
      " child_name (Intercept) 3.696    1.923   \n",
      "Number of obs: 392529, groups:  child_name, 322\n",
      "\n",
      "Fixed effects:\n",
      "             Estimate Std. Error z value Pr(>|z|)    \n",
      "(Intercept)   4.07875    0.16204   25.17  < 2e-16 ***\n",
      "has_response  0.16043    0.02431    6.60 4.12e-11 ***\n",
      "---\n",
      "Signif. codes:  0 ‘***’ 0.001 ‘**’ 0.01 ‘*’ 0.05 ‘.’ 0.1 ‘ ’ 1\n",
      "\n",
      "Correlation of Fixed Effects:\n",
      "            (Intr)\n",
      "has_respons -0.134\n"
     ]
    }
   ],
   "source": [
    "%%R -i conversations\n",
    "library(lme4)\n",
    "\n",
    "conversations_child_speech_related = subset(conversations, utt_is_speech_related==1)\n",
    "\n",
    "m_child_contingency<-glmer('follow_up_is_speech_related ~ has_response + (1 | child_name)', data=conversations_child_speech_related, family=binomial)\n",
    "print(summary(m_child_contingency))"
   ]
  },
  {
   "cell_type": "code",
   "execution_count": 10,
   "outputs": [
    {
     "name": "stdout",
     "output_type": "stream",
     "text": [
      "Generalized linear mixed model fit by maximum likelihood (Laplace\n",
      "  Approximation) [glmerMod]\n",
      " Family: binomial  ( logit )\n",
      "Formula: follow_up_is_speech_related ~ has_response + age + (1 | child_name)\n",
      "   Data: conversations_child_speech_related\n",
      "\n",
      "     AIC      BIC   logLik deviance df.resid \n",
      " 83232.6  83276.1 -41612.3  83224.6   392525 \n",
      "\n",
      "Scaled residuals: \n",
      "    Min      1Q  Median      3Q     Max \n",
      "-47.885   0.060   0.156   0.166   1.183 \n",
      "\n",
      "Random effects:\n",
      " Groups     Name        Variance Std.Dev.\n",
      " child_name (Intercept) 3.537    1.881   \n",
      "Number of obs: 392529, groups:  child_name, 322\n",
      "\n",
      "Fixed effects:\n",
      "             Estimate Std. Error z value Pr(>|z|)    \n",
      "(Intercept)   3.99347    0.15133  26.389  < 2e-16 ***\n",
      "has_response  0.15700    0.02409   6.517 7.16e-11 ***\n",
      "age           0.22066    0.07684   2.872  0.00408 ** \n",
      "---\n",
      "Signif. codes:  0 ‘***’ 0.001 ‘**’ 0.01 ‘*’ 0.05 ‘.’ 0.1 ‘ ’ 1\n",
      "\n",
      "Correlation of Fixed Effects:\n",
      "            (Intr) hs_rsp\n",
      "has_respons -0.148       \n",
      "age         -0.164 -0.048\n"
     ]
    }
   ],
   "source": [
    "%%R -i conversations\n",
    "library(lme4)\n",
    "\n",
    "conversations_child_speech_related = subset(conversations, utt_is_speech_related==1)\n",
    "\n",
    "m_child_contingency<-glmer('follow_up_is_speech_related ~ has_response + age + (1 | child_name)', data=conversations_child_speech_related, family=binomial)\n",
    "print(summary(m_child_contingency))"
   ],
   "metadata": {
    "collapsed": false,
    "pycharm": {
     "name": "#%%\n"
    }
   }
  },
  {
   "cell_type": "code",
   "execution_count": 12,
   "outputs": [],
   "source": [],
   "metadata": {
    "collapsed": false,
    "pycharm": {
     "name": "#%%\n"
    }
   }
  }
 ],
 "metadata": {
  "kernelspec": {
   "display_name": "Python 3",
   "language": "python",
   "name": "python3"
  },
  "language_info": {
   "codemirror_mode": {
    "name": "ipython",
    "version": 3
   },
   "file_extension": ".py",
   "mimetype": "text/x-python",
   "name": "python",
   "nbconvert_exporter": "python",
   "pygments_lexer": "ipython3",
   "version": "3.7.7"
  }
 },
 "nbformat": 4,
 "nbformat_minor": 4
}