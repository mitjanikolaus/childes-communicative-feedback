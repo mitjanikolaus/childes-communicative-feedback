{
 "cells": [
  {
   "cell_type": "code",
   "execution_count": 1,
   "metadata": {},
   "outputs": [],
   "source": [
    "import math\n",
    "import pandas as pd\n",
    "import seaborn as sns\n",
    "import matplotlib.pyplot as plt\n",
    "plt.rcParams['figure.figsize'] = [15, 10]"
   ]
  },
  {
   "cell_type": "code",
   "execution_count": 2,
   "metadata": {
    "pycharm": {
     "is_executing": true
    }
   },
   "outputs": [],
   "source": [
    "from rpy2.robjects.packages import importr\n",
    "\n",
    "utils = importr(\"utils\")\n",
    "utils.chooseCRANmirror(ind=1)\n",
    "#utils.install_packages('lme4')\n",
    "\n",
    "%load_ext rpy2.ipython"
   ]
  },
  {
   "cell_type": "code",
   "execution_count": 13,
   "metadata": {
    "pycharm": {
     "is_executing": true
    }
   },
   "outputs": [
    {
     "data": {
      "text/html": [
       "<div>\n",
       "<style scoped>\n",
       "    .dataframe tbody tr th:only-of-type {\n",
       "        vertical-align: middle;\n",
       "    }\n",
       "\n",
       "    .dataframe tbody tr th {\n",
       "        vertical-align: top;\n",
       "    }\n",
       "\n",
       "    .dataframe thead th {\n",
       "        text-align: right;\n",
       "    }\n",
       "</style>\n",
       "<table border=\"1\" class=\"dataframe\">\n",
       "  <thead>\n",
       "    <tr style=\"text-align: right;\">\n",
       "      <th></th>\n",
       "      <th>utterance_id</th>\n",
       "      <th>speaker_code</th>\n",
       "      <th>tokens</th>\n",
       "      <th>pos</th>\n",
       "      <th>age</th>\n",
       "      <th>corpus</th>\n",
       "      <th>transcript_file</th>\n",
       "      <th>child_name</th>\n",
       "      <th>speaker_code_next</th>\n",
       "      <th>start_time_next</th>\n",
       "      <th>...</th>\n",
       "      <th>follow_up_start_time</th>\n",
       "      <th>follow_up_end_time</th>\n",
       "      <th>follow_up_is_speech_related</th>\n",
       "      <th>follow_up_is_intelligible</th>\n",
       "      <th>follow_up_speech_act</th>\n",
       "      <th>response_latency</th>\n",
       "      <th>response_latency_follow_up</th>\n",
       "      <th>has_response</th>\n",
       "      <th>response_is_clarification_request</th>\n",
       "      <th>pos_feedback</th>\n",
       "    </tr>\n",
       "  </thead>\n",
       "  <tbody>\n",
       "    <tr>\n",
       "      <th>0</th>\n",
       "      <td>28</td>\n",
       "      <td>CHI</td>\n",
       "      <td>[\"let's\", 'get', 'some', 'glue', 'too', '.']</td>\n",
       "      <td>['v', 'pro:obj', 'v', 'qn', 'n', 'adv']</td>\n",
       "      <td>0.5</td>\n",
       "      <td>Bloom</td>\n",
       "      <td>/home/mitja/data/CHILDES/Bloom/Peter/020324.cha</td>\n",
       "      <td>Bloom_Peter</td>\n",
       "      <td>MOT</td>\n",
       "      <td>96687.0</td>\n",
       "      <td>...</td>\n",
       "      <td>97154.0</td>\n",
       "      <td>100026.0</td>\n",
       "      <td>1.0</td>\n",
       "      <td>1</td>\n",
       "      <td>PF</td>\n",
       "      <td>0.0</td>\n",
       "      <td>467.0</td>\n",
       "      <td>1</td>\n",
       "      <td>0</td>\n",
       "      <td>1</td>\n",
       "    </tr>\n",
       "    <tr>\n",
       "      <th>1</th>\n",
       "      <td>50</td>\n",
       "      <td>CHI</td>\n",
       "      <td>['i', 'get', 'some', 'glue', 'too', '.']</td>\n",
       "      <td>['pro:sub', 'v', 'qn', 'n', 'adv']</td>\n",
       "      <td>0.5</td>\n",
       "      <td>Bloom</td>\n",
       "      <td>/home/mitja/data/CHILDES/Bloom/Peter/020324.cha</td>\n",
       "      <td>Bloom_Peter</td>\n",
       "      <td>MOT</td>\n",
       "      <td>148262.0</td>\n",
       "      <td>...</td>\n",
       "      <td>150114.0</td>\n",
       "      <td>151434.0</td>\n",
       "      <td>1.0</td>\n",
       "      <td>0</td>\n",
       "      <td>AA</td>\n",
       "      <td>0.0</td>\n",
       "      <td>1852.0</td>\n",
       "      <td>1</td>\n",
       "      <td>0</td>\n",
       "      <td>1</td>\n",
       "    </tr>\n",
       "    <tr>\n",
       "      <th>2</th>\n",
       "      <td>52</td>\n",
       "      <td>CHI</td>\n",
       "      <td>['broken', '.']</td>\n",
       "      <td>['part']</td>\n",
       "      <td>0.5</td>\n",
       "      <td>Bloom</td>\n",
       "      <td>/home/mitja/data/CHILDES/Bloom/Peter/020324.cha</td>\n",
       "      <td>Bloom_Peter</td>\n",
       "      <td>MOT</td>\n",
       "      <td>151434.0</td>\n",
       "      <td>...</td>\n",
       "      <td>155422.0</td>\n",
       "      <td>161449.0</td>\n",
       "      <td>1.0</td>\n",
       "      <td>0</td>\n",
       "      <td>ST</td>\n",
       "      <td>0.0</td>\n",
       "      <td>3988.0</td>\n",
       "      <td>1</td>\n",
       "      <td>0</td>\n",
       "      <td>1</td>\n",
       "    </tr>\n",
       "    <tr>\n",
       "      <th>3</th>\n",
       "      <td>58</td>\n",
       "      <td>CHI</td>\n",
       "      <td>['huh', 'right', 'there', 'see', 'his', 'legs'...</td>\n",
       "      <td>['co', 'adv', 'adv', 'v', 'det:poss', 'n', 'v'...</td>\n",
       "      <td>0.5</td>\n",
       "      <td>Bloom</td>\n",
       "      <td>/home/mitja/data/CHILDES/Bloom/Peter/020324.cha</td>\n",
       "      <td>Bloom_Peter</td>\n",
       "      <td>MOT</td>\n",
       "      <td>169064.0</td>\n",
       "      <td>...</td>\n",
       "      <td>172202.0</td>\n",
       "      <td>173521.0</td>\n",
       "      <td>1.0</td>\n",
       "      <td>1</td>\n",
       "      <td>AD</td>\n",
       "      <td>0.0</td>\n",
       "      <td>3138.0</td>\n",
       "      <td>1</td>\n",
       "      <td>0</td>\n",
       "      <td>1</td>\n",
       "    </tr>\n",
       "    <tr>\n",
       "      <th>4</th>\n",
       "      <td>78</td>\n",
       "      <td>CHI</td>\n",
       "      <td>['hi', 'jenny', 'how', 'you', 'fine', 'hi', 'h...</td>\n",
       "      <td>['co', 'n:prop', 'pro:rel', 'pro:per', 'adv', ...</td>\n",
       "      <td>0.5</td>\n",
       "      <td>Bloom</td>\n",
       "      <td>/home/mitja/data/CHILDES/Bloom/Peter/020324.cha</td>\n",
       "      <td>Bloom_Peter</td>\n",
       "      <td>MOT</td>\n",
       "      <td>243831.0</td>\n",
       "      <td>...</td>\n",
       "      <td>249125.0</td>\n",
       "      <td>249641.0</td>\n",
       "      <td>1.0</td>\n",
       "      <td>1</td>\n",
       "      <td>AA</td>\n",
       "      <td>0.0</td>\n",
       "      <td>5294.0</td>\n",
       "      <td>1</td>\n",
       "      <td>0</td>\n",
       "      <td>1</td>\n",
       "    </tr>\n",
       "  </tbody>\n",
       "</table>\n",
       "<p>5 rows × 33 columns</p>\n",
       "</div>"
      ],
      "text/plain": [
       "   utterance_id speaker_code  \\\n",
       "0            28          CHI   \n",
       "1            50          CHI   \n",
       "2            52          CHI   \n",
       "3            58          CHI   \n",
       "4            78          CHI   \n",
       "\n",
       "                                              tokens  \\\n",
       "0       [\"let's\", 'get', 'some', 'glue', 'too', '.']   \n",
       "1           ['i', 'get', 'some', 'glue', 'too', '.']   \n",
       "2                                    ['broken', '.']   \n",
       "3  ['huh', 'right', 'there', 'see', 'his', 'legs'...   \n",
       "4  ['hi', 'jenny', 'how', 'you', 'fine', 'hi', 'h...   \n",
       "\n",
       "                                                 pos  age corpus  \\\n",
       "0            ['v', 'pro:obj', 'v', 'qn', 'n', 'adv']  0.5  Bloom   \n",
       "1                 ['pro:sub', 'v', 'qn', 'n', 'adv']  0.5  Bloom   \n",
       "2                                           ['part']  0.5  Bloom   \n",
       "3  ['co', 'adv', 'adv', 'v', 'det:poss', 'n', 'v'...  0.5  Bloom   \n",
       "4  ['co', 'n:prop', 'pro:rel', 'pro:per', 'adv', ...  0.5  Bloom   \n",
       "\n",
       "                                   transcript_file   child_name  \\\n",
       "0  /home/mitja/data/CHILDES/Bloom/Peter/020324.cha  Bloom_Peter   \n",
       "1  /home/mitja/data/CHILDES/Bloom/Peter/020324.cha  Bloom_Peter   \n",
       "2  /home/mitja/data/CHILDES/Bloom/Peter/020324.cha  Bloom_Peter   \n",
       "3  /home/mitja/data/CHILDES/Bloom/Peter/020324.cha  Bloom_Peter   \n",
       "4  /home/mitja/data/CHILDES/Bloom/Peter/020324.cha  Bloom_Peter   \n",
       "\n",
       "  speaker_code_next  start_time_next  ... follow_up_start_time  \\\n",
       "0               MOT          96687.0  ...              97154.0   \n",
       "1               MOT         148262.0  ...             150114.0   \n",
       "2               MOT         151434.0  ...             155422.0   \n",
       "3               MOT         169064.0  ...             172202.0   \n",
       "4               MOT         243831.0  ...             249125.0   \n",
       "\n",
       "   follow_up_end_time  follow_up_is_speech_related  follow_up_is_intelligible  \\\n",
       "0            100026.0                          1.0                          1   \n",
       "1            151434.0                          1.0                          0   \n",
       "2            161449.0                          1.0                          0   \n",
       "3            173521.0                          1.0                          1   \n",
       "4            249641.0                          1.0                          1   \n",
       "\n",
       "   follow_up_speech_act response_latency response_latency_follow_up  \\\n",
       "0                    PF              0.0                      467.0   \n",
       "1                    AA              0.0                     1852.0   \n",
       "2                    ST              0.0                     3988.0   \n",
       "3                    AD              0.0                     3138.0   \n",
       "4                    AA              0.0                     5294.0   \n",
       "\n",
       "   has_response  response_is_clarification_request  pos_feedback  \n",
       "0             1                                  0             1  \n",
       "1             1                                  0             1  \n",
       "2             1                                  0             1  \n",
       "3             1                                  0             1  \n",
       "4             1                                  0             1  \n",
       "\n",
       "[5 rows x 33 columns]"
      ]
     },
     "execution_count": 13,
     "metadata": {},
     "output_type": "execute_result"
    }
   ],
   "source": [
    "# Load data\n",
    "conversations = pd.read_csv(\"results/intelligibility/conversations.csv\")\n",
    "conversations_melted = pd.read_csv(\"results/intelligibility/conversations_melted.csv\")\n",
    "\n",
    "# convert True/False to 0/1:\n",
    "conversations.replace({False: 0, True: 1}, inplace=True)\n",
    "conversations_melted.replace({False: 0, True: 1}, inplace=True)\n",
    "\n",
    "# normalize age\n",
    "min_age, max_age = conversations[\"age\"].min(), conversations[\"age\"].max()\n",
    "conversations[\"age\"] = (conversations[\"age\"] - min_age) / (max_age - min_age) * (1 - 0)\n",
    "conversations_melted[\"age\"] = (conversations_melted[\"age\"] - min_age) / (max_age - min_age) * (1 - 0)\n",
    "\n",
    "conversations.head()"
   ]
  },
  {
   "cell_type": "markdown",
   "metadata": {},
   "source": [
    "## Quality of communicative feedback/ Caregiver contingency\n"
   ]
  },
  {
   "cell_type": "markdown",
   "metadata": {},
   "source": [
    "### Timing:"
   ]
  },
  {
   "cell_type": "code",
   "execution_count": 4,
   "metadata": {
    "pycharm": {
     "is_executing": true
    }
   },
   "outputs": [
    {
     "name": "stderr",
     "output_type": "stream",
     "text": [
      "R[write to console]: Loading required package: Matrix\n",
      "\n"
     ]
    },
    {
     "name": "stdout",
     "output_type": "stream",
     "text": [
      "Generalized linear mixed model fit by maximum likelihood (Laplace\n",
      "  Approximation) [glmerMod]\n",
      " Family: binomial  ( logit )\n",
      "Formula: has_response ~ utt_is_intelligible * age + (1 | child_name)\n",
      "   Data: conversations\n",
      "\n",
      "      AIC       BIC    logLik  deviance  df.resid \n",
      " 316140.1  316193.8 -158065.0  316130.1    340110 \n",
      "\n",
      "Scaled residuals: \n",
      "     Min       1Q   Median       3Q      Max \n",
      "-10.9342   0.1442   0.4944   0.5457   1.3183 \n",
      "\n",
      "Random effects:\n",
      " Groups     Name        Variance Std.Dev.\n",
      " child_name (Intercept) 1.223    1.106   \n",
      "Number of obs: 340115, groups:  child_name, 45\n",
      "\n",
      "Fixed effects:\n",
      "                        Estimate Std. Error z value Pr(>|z|)    \n",
      "(Intercept)              1.73717    0.09017  19.266  < 2e-16 ***\n",
      "utt_is_intelligible      0.65315    0.02679  24.381  < 2e-16 ***\n",
      "age                      0.67847    0.04166  16.287  < 2e-16 ***\n",
      "utt_is_intelligible:age  0.20033    0.04731   4.234  2.3e-05 ***\n",
      "---\n",
      "Signif. codes:  0 ‘***’ 0.001 ‘**’ 0.01 ‘*’ 0.05 ‘.’ 0.1 ‘ ’ 1\n",
      "\n",
      "Correlation of Fixed Effects:\n",
      "            (Intr) utt_s_ age   \n",
      "utt_s_ntllg -0.202              \n",
      "age         -0.165  0.674       \n",
      "utt_s_ntll:  0.204 -0.895 -0.765\n"
     ]
    }
   ],
   "source": [
    "%%R -i conversations\n",
    "library(lme4)\n",
    "\n",
    "m_caregiver_contingency<-glmer('has_response ~ utt_is_intelligible * age + (1 | child_name)', data=conversations, family=binomial)\n",
    "print(summary(m_caregiver_contingency))\n"
   ]
  },
  {
   "cell_type": "markdown",
   "metadata": {},
   "source": [
    "### Clarification requests"
   ]
  },
  {
   "cell_type": "code",
   "execution_count": 5,
   "metadata": {},
   "outputs": [],
   "source": [
    "conversations[\"response_is_no_clarification_request\"] = conversations.response_is_clarification_request.replace({0:1, 1:0})\n"
   ]
  },
  {
   "cell_type": "code",
   "execution_count": 6,
   "metadata": {},
   "outputs": [
    {
     "name": "stdout",
     "output_type": "stream",
     "text": [
      "Generalized linear mixed model fit by maximum likelihood (Laplace\n",
      "  Approximation) [glmerMod]\n",
      " Family: binomial  ( logit )\n",
      "Formula: response_is_clarification_request ~ utt_is_intelligible * age +  \n",
      "    (1 | child_name)\n",
      "   Data: conversations\n",
      "\n",
      "     AIC      BIC   logLik deviance df.resid \n",
      " 20564.5  20618.2 -10277.2  20554.5   340110 \n",
      "\n",
      "Scaled residuals: \n",
      "   Min     1Q Median     3Q    Max \n",
      "-0.252 -0.078 -0.065 -0.033 33.277 \n",
      "\n",
      "Random effects:\n",
      " Groups     Name        Variance Std.Dev.\n",
      " child_name (Intercept) 0.5583   0.7472  \n",
      "Number of obs: 340115, groups:  child_name, 45\n",
      "\n",
      "Fixed effects:\n",
      "                        Estimate Std. Error z value Pr(>|z|)    \n",
      "(Intercept)              -4.1062     0.1416 -29.000   <2e-16 ***\n",
      "utt_is_intelligible      -0.9750     0.1182  -8.250   <2e-16 ***\n",
      "age                      -0.3729     0.1901  -1.961   0.0498 *  \n",
      "utt_is_intelligible:age   0.1002     0.2077   0.482   0.6296    \n",
      "---\n",
      "Signif. codes:  0 ‘***’ 0.001 ‘**’ 0.01 ‘*’ 0.05 ‘.’ 0.1 ‘ ’ 1\n",
      "\n",
      "Correlation of Fixed Effects:\n",
      "            (Intr) utt_s_ age   \n",
      "utt_s_ntllg -0.285              \n",
      "age         -0.462  0.503       \n",
      "utt_s_ntll:  0.243 -0.881 -0.624\n"
     ]
    }
   ],
   "source": [
    "%%R -i conversations\n",
    "library(lme4)\n",
    "\n",
    "# TODO: filter out cases without responses?\n",
    "m_caregiver_contingency<-glmer('response_is_clarification_request ~ utt_is_intelligible * age + (1 | child_name)', data=conversations, family=binomial)\n",
    "print(summary(m_caregiver_contingency))"
   ]
  },
  {
   "cell_type": "markdown",
   "metadata": {},
   "source": [
    "### Combined (Positive Feedback = No pause, no clarification request)"
   ]
  },
  {
   "cell_type": "code",
   "execution_count": 7,
   "metadata": {},
   "outputs": [
    {
     "name": "stdout",
     "output_type": "stream",
     "text": [
      "Generalized linear mixed model fit by maximum likelihood (Laplace\n",
      "  Approximation) [glmerMod]\n",
      " Family: binomial  ( logit )\n",
      "Formula: pos_feedback ~ utt_is_intelligible * age + (1 | child_name)\n",
      "   Data: conversations\n",
      "\n",
      "      AIC       BIC    logLik  deviance  df.resid \n",
      " 321532.6  321586.3 -160761.3  321522.6    340110 \n",
      "\n",
      "Scaled residuals: \n",
      "    Min      1Q  Median      3Q     Max \n",
      "-8.2163  0.1658  0.4953  0.5518  1.3401 \n",
      "\n",
      "Random effects:\n",
      " Groups     Name        Variance Std.Dev.\n",
      " child_name (Intercept) 0.9521   0.9757  \n",
      "Number of obs: 340115, groups:  child_name, 45\n",
      "\n",
      "Fixed effects:\n",
      "                        Estimate Std. Error z value Pr(>|z|)    \n",
      "(Intercept)              1.50958    0.08451  17.862  < 2e-16 ***\n",
      "utt_is_intelligible      0.68197    0.02664  25.601  < 2e-16 ***\n",
      "age                      0.69011    0.04362  15.821  < 2e-16 ***\n",
      "utt_is_intelligible:age  0.18229    0.04766   3.825 0.000131 ***\n",
      "---\n",
      "Signif. codes:  0 ‘***’ 0.001 ‘**’ 0.01 ‘*’ 0.05 ‘.’ 0.1 ‘ ’ 1\n",
      "\n",
      "Correlation of Fixed Effects:\n",
      "            (Intr) utt_s_ age   \n",
      "utt_s_ntllg  0.107              \n",
      "age          0.077  0.679       \n",
      "utt_s_ntll: -0.125 -0.895 -0.776\n"
     ]
    }
   ],
   "source": [
    "%%R -i conversations\n",
    "library(lme4)\n",
    "\n",
    "m_caregiver_contingency<-glmer('pos_feedback ~ utt_is_intelligible * age + (1 | child_name)', data=conversations, family=binomial)\n",
    "print(summary(m_caregiver_contingency))"
   ]
  },
  {
   "cell_type": "markdown",
   "metadata": {},
   "source": [
    "## Effect of communicative feedback\n",
    "### Positive Feedback: Timing"
   ]
  },
  {
   "cell_type": "code",
   "execution_count": 8,
   "metadata": {
    "pycharm": {
     "is_executing": true
    }
   },
   "outputs": [
    {
     "name": "stdout",
     "output_type": "stream",
     "text": [
      "Generalized linear mixed model fit by maximum likelihood (Laplace\n",
      "  Approximation) [glmerMod]\n",
      " Family: binomial  ( logit )\n",
      "Formula: follow_up_is_intelligible ~ has_response * age + (1 | child_name)\n",
      "   Data: conversations\n",
      "\n",
      "      AIC       BIC    logLik  deviance  df.resid \n",
      " 258919.6  258973.3 -129454.8  258909.6    340110 \n",
      "\n",
      "Scaled residuals: \n",
      "    Min      1Q  Median      3Q     Max \n",
      "-5.7015  0.2778  0.3203  0.4008  9.5605 \n",
      "\n",
      "Random effects:\n",
      " Groups     Name        Variance Std.Dev.\n",
      " child_name (Intercept) 2.701    1.643   \n",
      "Number of obs: 340115, groups:  child_name, 45\n",
      "\n",
      "Fixed effects:\n",
      "                 Estimate Std. Error z value Pr(>|z|)    \n",
      "(Intercept)       0.05172    0.11421   0.453  0.65067    \n",
      "has_response      0.41832    0.03138  13.332  < 2e-16 ***\n",
      "age               1.20313    0.05326  22.589  < 2e-16 ***\n",
      "has_response:age  0.17131    0.05795   2.956  0.00312 ** \n",
      "---\n",
      "Signif. codes:  0 ‘***’ 0.001 ‘**’ 0.01 ‘*’ 0.05 ‘.’ 0.1 ‘ ’ 1\n",
      "\n",
      "Correlation of Fixed Effects:\n",
      "            (Intr) hs_rsp age   \n",
      "has_respons -0.008              \n",
      "age          0.005  0.754       \n",
      "has_rspns:g -0.008 -0.919 -0.828\n"
     ]
    }
   ],
   "source": [
    "%%R -i conversations\n",
    "library(lme4)\n",
    "\n",
    "m_child_contingency<-glmer('follow_up_is_intelligible ~ has_response * age + (1 | child_name)', data=conversations, family=binomial)\n",
    "print(summary(m_child_contingency))"
   ]
  },
  {
   "cell_type": "code",
   "execution_count": 9,
   "metadata": {},
   "outputs": [
    {
     "name": "stdout",
     "output_type": "stream",
     "text": [
      "Generalized linear mixed model fit by maximum likelihood (Laplace\n",
      "  Approximation) [glmerMod]\n",
      " Family: binomial  ( logit )\n",
      "Formula: follow_up_is_intelligible ~ has_response * age + (1 | child_name)\n",
      "   Data: conversations_child_intelligible\n",
      "\n",
      "     AIC      BIC   logLik deviance df.resid \n",
      "194555.6 194608.5 -97272.8 194545.6   287147 \n",
      "\n",
      "Scaled residuals: \n",
      "    Min      1Q  Median      3Q     Max \n",
      "-5.6721  0.2771  0.3036  0.3514  1.9946 \n",
      "\n",
      "Random effects:\n",
      " Groups     Name        Variance Std.Dev.\n",
      " child_name (Intercept) 0.9542   0.9768  \n",
      "Number of obs: 287152, groups:  child_name, 44\n",
      "\n",
      "Fixed effects:\n",
      "                 Estimate Std. Error z value Pr(>|z|)    \n",
      "(Intercept)       0.92997    0.09535   9.753   <2e-16 ***\n",
      "has_response      0.32684    0.03523   9.276   <2e-16 ***\n",
      "age               0.68331    0.05703  11.981   <2e-16 ***\n",
      "has_response:age  0.15137    0.06248   2.423   0.0154 *  \n",
      "---\n",
      "Signif. codes:  0 ‘***’ 0.001 ‘**’ 0.01 ‘*’ 0.05 ‘.’ 0.1 ‘ ’ 1\n",
      "\n",
      "Correlation of Fixed Effects:\n",
      "            (Intr) hs_rsp age   \n",
      "has_respons -0.077              \n",
      "age         -0.092  0.708       \n",
      "has_rspns:g  0.066 -0.909 -0.789\n"
     ]
    }
   ],
   "source": [
    "%%R -i conversations\n",
    "library(lme4)\n",
    "\n",
    "conversations_child_intelligible = subset(conversations, utt_is_intelligible==1)\n",
    "\n",
    "m_child_contingency<-glmer('follow_up_is_intelligible ~ has_response * age + (1 | child_name)', data=conversations_child_intelligible, family=binomial)\n",
    "print(summary(m_child_contingency))"
   ]
  },
  {
   "cell_type": "markdown",
   "metadata": {
    "pycharm": {
     "is_executing": true
    }
   },
   "source": [
    "### Negative Feedback: Clarification requests"
   ]
  },
  {
   "cell_type": "code",
   "execution_count": 16,
   "metadata": {},
   "outputs": [
    {
     "name": "stderr",
     "output_type": "stream",
     "text": [
      "R[write to console]: boundary (singular) fit: see ?isSingular\n",
      "\n"
     ]
    },
    {
     "name": "stdout",
     "output_type": "stream",
     "text": [
      "Generalized linear mixed model fit by maximum likelihood (Laplace\n",
      "  Approximation) [glmerMod]\n",
      " Family: binomial  ( logit )\n",
      "Formula: is_intelligible ~ is_follow_up * age + (1 | child_name) + (1 |  \n",
      "    is_follow_up)\n",
      "   Data: conversations_cr\n",
      "Control: glmerControl(optimizer = \"bobyqa\", optCtrl = list(maxfun = 1e+05))\n",
      "\n",
      "     AIC      BIC   logLik deviance df.resid \n",
      "  3483.0   3519.3  -1735.5   3471.0     3142 \n",
      "\n",
      "Scaled residuals: \n",
      "    Min      1Q  Median      3Q     Max \n",
      "-3.5998 -0.6840  0.4588  0.6031  2.8500 \n",
      "\n",
      "Random effects:\n",
      " Groups       Name        Variance Std.Dev.\n",
      " child_name   (Intercept) 0.897    0.9471  \n",
      " is_follow_up (Intercept) 0.000    0.0000  \n",
      "Number of obs: 3148, groups:  child_name, 42; is_follow_up, 2\n",
      "\n",
      "Fixed effects:\n",
      "                 Estimate Std. Error z value Pr(>|z|)    \n",
      "(Intercept)       -0.6198     0.2542  -2.438   0.0148 *  \n",
      "is_follow_up       0.4913     0.2475   1.985   0.0472 *  \n",
      "age                2.1303     0.3501   6.085 1.17e-09 ***\n",
      "is_follow_up:age  -0.4493     0.4684  -0.959   0.3374    \n",
      "---\n",
      "Signif. codes:  0 ‘***’ 0.001 ‘**’ 0.01 ‘*’ 0.05 ‘.’ 0.1 ‘ ’ 1\n",
      "\n",
      "Correlation of Fixed Effects:\n",
      "            (Intr) is_fl_ age   \n",
      "is_follow_p -0.487              \n",
      "age         -0.688  0.622       \n",
      "is_fllw_p:g  0.458 -0.941 -0.659\n",
      "optimizer (bobyqa) convergence code: 0 (OK)\n",
      "boundary (singular) fit: see ?isSingular\n",
      "\n"
     ]
    }
   ],
   "source": [
    "%%R -i conversations_melted\n",
    "library(lme4)\n",
    "\n",
    "conversations_with_response = subset(conversations_melted, has_response == 1)\n",
    "conversations_cr = subset(conversations_with_response, response_is_clarification_request == 1)\n",
    "\n",
    "# TODO: conversation_id or is_follow_up in random effects?\n",
    "m_child_contingency<-glmer('is_intelligible ~ is_follow_up * age + (1 | child_name) + (1 | conversation_id)', data=conversations_cr, family=binomial, control=glmerControl(optimizer=\"bobyqa\", optCtrl=list(maxfun=1e5)))\n",
    "print(summary(m_child_contingency))"
   ]
  },
  {
   "cell_type": "code",
   "execution_count": 11,
   "metadata": {},
   "outputs": [
    {
     "name": "stderr",
     "output_type": "stream",
     "text": [
      "R[write to console]: boundary (singular) fit: see ?isSingular\n",
      "\n"
     ]
    },
    {
     "name": "stdout",
     "output_type": "stream",
     "text": [
      "Generalized linear mixed model fit by maximum likelihood (Laplace\n",
      "  Approximation) [glmerMod]\n",
      " Family: binomial  ( logit )\n",
      "Formula: is_intelligible ~ response_is_clarification_request * is_follow_up +  \n",
      "    (1 | age) + (1 | child_name) + (1 | is_follow_up)\n",
      "   Data: conversations_with_response\n",
      "Control: glmerControl(optimizer = \"bobyqa\", optCtrl = list(maxfun = 10000))\n",
      "\n",
      "      AIC       BIC    logLik  deviance  df.resid \n",
      " 388958.6  389037.1 -194472.3  388944.6    542779 \n",
      "\n",
      "Scaled residuals: \n",
      "    Min      1Q  Median      3Q     Max \n",
      "-5.4251  0.2767  0.3041  0.3481  8.7127 \n",
      "\n",
      "Random effects:\n",
      " Groups       Name        Variance Std.Dev.\n",
      " child_name   (Intercept) 2.2565   1.5022  \n",
      " age          (Intercept) 0.3076   0.5546  \n",
      " is_follow_up (Intercept) 0.0000   0.0000  \n",
      "Number of obs: 542786, groups:  child_name, 45; age, 7; is_follow_up, 2\n",
      "\n",
      "Fixed effects:\n",
      "                                                Estimate Std. Error z value\n",
      "(Intercept)                                     1.147648   0.066659  17.217\n",
      "response_is_clarification_request              -1.131181   0.044508 -25.415\n",
      "is_follow_up                                   -0.085867   0.008346 -10.289\n",
      "response_is_clarification_request:is_follow_up  0.379375   0.058400   6.496\n",
      "                                               Pr(>|z|)    \n",
      "(Intercept)                                     < 2e-16 ***\n",
      "response_is_clarification_request               < 2e-16 ***\n",
      "is_follow_up                                    < 2e-16 ***\n",
      "response_is_clarification_request:is_follow_up 8.24e-11 ***\n",
      "---\n",
      "Signif. codes:  0 ‘***’ 0.001 ‘**’ 0.01 ‘*’ 0.05 ‘.’ 0.1 ‘ ’ 1\n",
      "\n",
      "Correlation of Fixed Effects:\n",
      "            (Intr) rsp___ is_fl_\n",
      "rspns_s_cl_ -0.048              \n",
      "is_follow_p -0.020  0.054       \n",
      "rspns___:__  0.055 -0.528 -0.076\n",
      "optimizer (bobyqa) convergence code: 0 (OK)\n",
      "boundary (singular) fit: see ?isSingular\n",
      "\n"
     ]
    }
   ],
   "source": [
    "%%R -i conversations_melted\n",
    "library(lme4)\n",
    "\n",
    "conversations_with_response = subset(conversations_melted, has_response == 1)\n",
    "\n",
    "\n",
    "m_child_contingency<-glmer('is_intelligible ~ response_is_clarification_request * is_follow_up + (1 | age) + (1 | child_name) + (1 | is_follow_up)', data=conversations_with_response, family=binomial, control=glmerControl(optimizer=\"bobyqa\", optCtrl=list(maxfun=1e4)))\n",
    "print(summary(m_child_contingency))"
   ]
  },
  {
   "cell_type": "code",
   "execution_count": null,
   "metadata": {},
   "outputs": [],
   "source": []
  },
  {
   "cell_type": "code",
   "execution_count": null,
   "metadata": {},
   "outputs": [],
   "source": []
  }
 ],
 "metadata": {
  "kernelspec": {
   "display_name": "Python 3",
   "language": "python",
   "name": "python3"
  },
  "language_info": {
   "codemirror_mode": {
    "name": "ipython",
    "version": 3
   },
   "file_extension": ".py",
   "mimetype": "text/x-python",
   "name": "python",
   "nbconvert_exporter": "python",
   "pygments_lexer": "ipython3",
   "version": "3.7.7"
  }
 },
 "nbformat": 4,
 "nbformat_minor": 4
}