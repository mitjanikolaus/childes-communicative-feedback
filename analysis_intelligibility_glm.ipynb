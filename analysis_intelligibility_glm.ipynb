{
 "cells": [
  {
   "cell_type": "code",
   "execution_count": 1,
   "metadata": {},
   "outputs": [],
   "source": [
    "import IPython\n",
    "import math\n",
    "import pandas as pd\n",
    "import seaborn as sns\n",
    "import matplotlib.pyplot as plt\n",
    "plt.rcParams['figure.figsize'] = [15, 10]\n",
    "\n"
   ]
  },
  {
   "cell_type": "code",
   "execution_count": 2,
   "metadata": {},
   "outputs": [],
   "source": [
    "from rpy2.robjects.packages import importr\n",
    "\n",
    "utils = importr(\"utils\")\n",
    "utils.chooseCRANmirror(ind=1)\n",
    "#utils.install_packages('lme4')\n",
    "\n",
    "%load_ext rpy2.ipython"
   ]
  },
  {
   "cell_type": "code",
   "execution_count": 3,
   "metadata": {},
   "outputs": [
    {
     "data": {
      "text/plain": "   utterance_id speaker_code               tokens               pos       age  \\\n0           300          CHI         ['sit', '.']             ['v']  0.166667   \n1           333          CHI  ['a', 'mommy', '.']  ['det:art', 'n']  0.166667   \n2           336          CHI                ['.']          ['none']  0.166667   \n3           343          CHI                ['.']          ['none']  0.166667   \n4           350          CHI                ['.']          ['none']  0.166667   \n\n      corpus                                    transcript_file  \\\n0  Bernstein  /home/mitja/data/CHILDES/Bernstein/Children/Al...   \n1  Bernstein  /home/mitja/data/CHILDES/Bernstein/Children/Al...   \n2  Bernstein  /home/mitja/data/CHILDES/Bernstein/Children/Al...   \n3  Bernstein  /home/mitja/data/CHILDES/Bernstein/Children/Al...   \n4  Bernstein  /home/mitja/data/CHILDES/Bernstein/Children/Al...   \n\n        child_name speaker_code_next  start_time_next  ...  \\\n0  Bernstein_Alice               MOT          29650.0  ...   \n1  Bernstein_Alice               MOT         138685.0  ...   \n2  Bernstein_Alice               MOT         142428.0  ...   \n3  Bernstein_Alice               MOT         153962.0  ...   \n4  Bernstein_Alice               MOT         176230.0  ...   \n\n  follow_up_start_time  follow_up_end_time  follow_up_is_speech_related  \\\n0              32175.0             39984.0                          1.0   \n1             140585.0            142428.0                          1.0   \n2             152302.0            153962.0                          1.0   \n3             173964.0            176230.0                          1.0   \n4             200269.0            208049.0                          1.0   \n\n   follow_up_is_intelligible  follow_up_speech_act response_latency  \\\n0                          1                    ST              0.0   \n1                          0                    YY              0.0   \n2                          0                    YY              0.0   \n3                          0                    YY              0.0   \n4                          0                    YY              0.0   \n\n  response_latency_follow_up  has_response  response_is_clarification_request  \\\n0                     2525.0             1                                  0   \n1                     1900.0             1                                  0   \n2                     9874.0             1                                  0   \n3                    20002.0             1                                  0   \n4                    24039.0             1                                  0   \n\n   pos_feedback  \n0             1  \n1             1  \n2             1  \n3             1  \n4             1  \n\n[5 rows x 33 columns]",
      "text/html": "<div>\n<style scoped>\n    .dataframe tbody tr th:only-of-type {\n        vertical-align: middle;\n    }\n\n    .dataframe tbody tr th {\n        vertical-align: top;\n    }\n\n    .dataframe thead th {\n        text-align: right;\n    }\n</style>\n<table border=\"1\" class=\"dataframe\">\n  <thead>\n    <tr style=\"text-align: right;\">\n      <th></th>\n      <th>utterance_id</th>\n      <th>speaker_code</th>\n      <th>tokens</th>\n      <th>pos</th>\n      <th>age</th>\n      <th>corpus</th>\n      <th>transcript_file</th>\n      <th>child_name</th>\n      <th>speaker_code_next</th>\n      <th>start_time_next</th>\n      <th>...</th>\n      <th>follow_up_start_time</th>\n      <th>follow_up_end_time</th>\n      <th>follow_up_is_speech_related</th>\n      <th>follow_up_is_intelligible</th>\n      <th>follow_up_speech_act</th>\n      <th>response_latency</th>\n      <th>response_latency_follow_up</th>\n      <th>has_response</th>\n      <th>response_is_clarification_request</th>\n      <th>pos_feedback</th>\n    </tr>\n  </thead>\n  <tbody>\n    <tr>\n      <th>0</th>\n      <td>300</td>\n      <td>CHI</td>\n      <td>['sit', '.']</td>\n      <td>['v']</td>\n      <td>0.166667</td>\n      <td>Bernstein</td>\n      <td>/home/mitja/data/CHILDES/Bernstein/Children/Al...</td>\n      <td>Bernstein_Alice</td>\n      <td>MOT</td>\n      <td>29650.0</td>\n      <td>...</td>\n      <td>32175.0</td>\n      <td>39984.0</td>\n      <td>1.0</td>\n      <td>1</td>\n      <td>ST</td>\n      <td>0.0</td>\n      <td>2525.0</td>\n      <td>1</td>\n      <td>0</td>\n      <td>1</td>\n    </tr>\n    <tr>\n      <th>1</th>\n      <td>333</td>\n      <td>CHI</td>\n      <td>['a', 'mommy', '.']</td>\n      <td>['det:art', 'n']</td>\n      <td>0.166667</td>\n      <td>Bernstein</td>\n      <td>/home/mitja/data/CHILDES/Bernstein/Children/Al...</td>\n      <td>Bernstein_Alice</td>\n      <td>MOT</td>\n      <td>138685.0</td>\n      <td>...</td>\n      <td>140585.0</td>\n      <td>142428.0</td>\n      <td>1.0</td>\n      <td>0</td>\n      <td>YY</td>\n      <td>0.0</td>\n      <td>1900.0</td>\n      <td>1</td>\n      <td>0</td>\n      <td>1</td>\n    </tr>\n    <tr>\n      <th>2</th>\n      <td>336</td>\n      <td>CHI</td>\n      <td>['.']</td>\n      <td>['none']</td>\n      <td>0.166667</td>\n      <td>Bernstein</td>\n      <td>/home/mitja/data/CHILDES/Bernstein/Children/Al...</td>\n      <td>Bernstein_Alice</td>\n      <td>MOT</td>\n      <td>142428.0</td>\n      <td>...</td>\n      <td>152302.0</td>\n      <td>153962.0</td>\n      <td>1.0</td>\n      <td>0</td>\n      <td>YY</td>\n      <td>0.0</td>\n      <td>9874.0</td>\n      <td>1</td>\n      <td>0</td>\n      <td>1</td>\n    </tr>\n    <tr>\n      <th>3</th>\n      <td>343</td>\n      <td>CHI</td>\n      <td>['.']</td>\n      <td>['none']</td>\n      <td>0.166667</td>\n      <td>Bernstein</td>\n      <td>/home/mitja/data/CHILDES/Bernstein/Children/Al...</td>\n      <td>Bernstein_Alice</td>\n      <td>MOT</td>\n      <td>153962.0</td>\n      <td>...</td>\n      <td>173964.0</td>\n      <td>176230.0</td>\n      <td>1.0</td>\n      <td>0</td>\n      <td>YY</td>\n      <td>0.0</td>\n      <td>20002.0</td>\n      <td>1</td>\n      <td>0</td>\n      <td>1</td>\n    </tr>\n    <tr>\n      <th>4</th>\n      <td>350</td>\n      <td>CHI</td>\n      <td>['.']</td>\n      <td>['none']</td>\n      <td>0.166667</td>\n      <td>Bernstein</td>\n      <td>/home/mitja/data/CHILDES/Bernstein/Children/Al...</td>\n      <td>Bernstein_Alice</td>\n      <td>MOT</td>\n      <td>176230.0</td>\n      <td>...</td>\n      <td>200269.0</td>\n      <td>208049.0</td>\n      <td>1.0</td>\n      <td>0</td>\n      <td>YY</td>\n      <td>0.0</td>\n      <td>24039.0</td>\n      <td>1</td>\n      <td>0</td>\n      <td>1</td>\n    </tr>\n  </tbody>\n</table>\n<p>5 rows × 33 columns</p>\n</div>"
     },
     "execution_count": 3,
     "metadata": {},
     "output_type": "execute_result"
    }
   ],
   "source": [
    "# Load data\n",
    "conversations = pd.read_csv(\"results/intelligibility/conversations.csv\")\n",
    "conversations_melted = pd.read_csv(\"results/intelligibility/conversations_melted.csv\")\n",
    "\n",
    "# convert True/False to 0/1:\n",
    "conversations.replace({False: 0, True: 1}, inplace=True)\n",
    "conversations_melted.replace({False: 0, True: 1}, inplace=True)\n",
    "\n",
    "# normalize age\n",
    "min_age, max_age = conversations[\"age\"].min(), conversations[\"age\"].max()\n",
    "conversations[\"age\"] = (conversations[\"age\"] - min_age) / (max_age - min_age) * (1 - 0)\n",
    "conversations_melted[\"age\"] = (conversations_melted[\"age\"] - min_age) / (max_age - min_age) * (1 - 0)\n",
    "\n",
    "conversations.head()"
   ]
  },
  {
   "cell_type": "markdown",
   "metadata": {},
   "source": [
    "## Quality of communicative feedback/ Caregiver contingency\n"
   ]
  },
  {
   "cell_type": "markdown",
   "metadata": {},
   "source": [
    "### Timing:"
   ]
  },
  {
   "cell_type": "code",
   "execution_count": 4,
   "metadata": {},
   "outputs": [
    {
     "name": "stderr",
     "output_type": "stream",
     "text": [
      "R[write to console]: Loading required package: Matrix\n",
      "\n"
     ]
    },
    {
     "name": "stdout",
     "output_type": "stream",
     "text": [
      "Generalized linear mixed model fit by maximum likelihood (Laplace\n",
      "  Approximation) [glmerMod]\n",
      " Family: binomial  ( logit )\n",
      "Formula: has_response ~ utt_is_intelligible + age + (1 | child_name)\n",
      "   Data: conversations\n",
      "\n",
      "      AIC       BIC    logLik  deviance  df.resid \n",
      " 406540.4  406584.3 -203266.2  406532.4    431746 \n",
      "\n",
      "Scaled residuals: \n",
      "     Min       1Q   Median       3Q      Max \n",
      "-13.2691   0.1579   0.4849   0.5605   1.3335 \n",
      "\n",
      "Random effects:\n",
      " Groups     Name        Variance Std.Dev.\n",
      " child_name (Intercept) 2.114    1.454   \n",
      "Number of obs: 431750, groups:  child_name, 332\n",
      "\n",
      "Fixed effects:\n",
      "                    Estimate Std. Error z value Pr(>|z|)    \n",
      "(Intercept)          2.70550    0.07404   36.54   <2e-16 ***\n",
      "utt_is_intelligible  0.77371    0.01045   74.04   <2e-16 ***\n",
      "age                  0.84248    0.02413   34.92   <2e-16 ***\n",
      "---\n",
      "Signif. codes:  0 ‘***’ 0.001 ‘**’ 0.01 ‘*’ 0.05 ‘.’ 0.1 ‘ ’ 1\n",
      "\n",
      "Correlation of Fixed Effects:\n",
      "            (Intr) utt_s_\n",
      "utt_s_ntllg -0.010       \n",
      "age         -0.027 -0.059\n"
     ]
    }
   ],
   "source": [
    "%%R -i conversations\n",
    "library(lme4)\n",
    "\n",
    "m_caregiver_contingency<-glmer('has_response ~ utt_is_intelligible + age + (1 | child_name)', data=conversations, family=binomial)\n",
    "print(summary(m_caregiver_contingency))\n"
   ]
  },
  {
   "cell_type": "markdown",
   "metadata": {},
   "source": [
    "### Clarification requests"
   ]
  },
  {
   "cell_type": "code",
   "execution_count": 5,
   "metadata": {},
   "outputs": [
    {
     "name": "stdout",
     "output_type": "stream",
     "text": [
      "Generalized linear mixed model fit by maximum likelihood (Laplace\n",
      "  Approximation) [glmerMod]\n",
      " Family: binomial  ( logit )\n",
      "Formula: response_is_clarification_request ~ utt_is_intelligible + age +  \n",
      "    (1 | child_name)\n",
      "   Data: conversations_with_response\n",
      "\n",
      "     AIC      BIC   logLik deviance df.resid \n",
      " 23844.0  23886.9 -11918.0  23836.0   341347 \n",
      "\n",
      "Scaled residuals: \n",
      "   Min     1Q Median     3Q    Max \n",
      "-0.279 -0.086 -0.070 -0.033 34.566 \n",
      "\n",
      "Random effects:\n",
      " Groups     Name        Variance Std.Dev.\n",
      " child_name (Intercept) 0.7597   0.8716  \n",
      "Number of obs: 341351, groups:  child_name, 332\n",
      "\n",
      "Fixed effects:\n",
      "                    Estimate Std. Error z value Pr(>|z|)    \n",
      "(Intercept)         -4.09721    0.11031 -37.143  < 2e-16 ***\n",
      "utt_is_intelligible -1.10295    0.05052 -21.833  < 2e-16 ***\n",
      "age                 -0.40060    0.11989  -3.342 0.000833 ***\n",
      "---\n",
      "Signif. codes:  0 ‘***’ 0.001 ‘**’ 0.01 ‘*’ 0.05 ‘.’ 0.1 ‘ ’ 1\n",
      "\n",
      "Correlation of Fixed Effects:\n",
      "            (Intr) utt_s_\n",
      "utt_s_ntllg -0.111       \n",
      "age         -0.302 -0.123\n"
     ]
    }
   ],
   "source": [
    "%%R -i conversations\n",
    "library(lme4)\n",
    "\n",
    "conversations_with_response = subset(conversations, has_response==1)\n",
    "\n",
    "m_caregiver_contingency<-glmer('response_is_clarification_request ~ utt_is_intelligible + age + (1 | child_name)', data=conversations_with_response, family=binomial)\n",
    "print(summary(m_caregiver_contingency))"
   ]
  },
  {
   "cell_type": "markdown",
   "metadata": {},
   "source": [
    "### Combined (Positive Feedback = No pause, no clarification request)"
   ]
  },
  {
   "cell_type": "code",
   "execution_count": 6,
   "metadata": {},
   "outputs": [
    {
     "name": "stdout",
     "output_type": "stream",
     "text": [
      "Generalized linear mixed model fit by maximum likelihood (Laplace\n",
      "  Approximation) [glmerMod]\n",
      " Family: binomial  ( logit )\n",
      "Formula: pos_feedback ~ utt_is_intelligible + age + (1 | child_name)\n",
      "   Data: conversations\n",
      "\n",
      "      AIC       BIC    logLik  deviance  df.resid \n",
      " 413275.2  413319.1 -206633.6  413267.2    431746 \n",
      "\n",
      "Scaled residuals: \n",
      "     Min       1Q   Median       3Q      Max \n",
      "-10.5871   0.1760   0.5016   0.5665   1.3571 \n",
      "\n",
      "Random effects:\n",
      " Groups     Name        Variance Std.Dev.\n",
      " child_name (Intercept) 1.474    1.214   \n",
      "Number of obs: 431750, groups:  child_name, 332\n",
      "\n",
      "Fixed effects:\n",
      "                    Estimate Std. Error z value Pr(>|z|)    \n",
      "(Intercept)          2.29067    0.07056   32.46   <2e-16 ***\n",
      "utt_is_intelligible  0.79255    0.01029   77.04   <2e-16 ***\n",
      "age                  0.83980    0.02397   35.04   <2e-16 ***\n",
      "---\n",
      "Signif. codes:  0 ‘***’ 0.001 ‘**’ 0.01 ‘*’ 0.05 ‘.’ 0.1 ‘ ’ 1\n",
      "\n",
      "Correlation of Fixed Effects:\n",
      "            (Intr) utt_s_\n",
      "utt_s_ntllg -0.041       \n",
      "age         -0.055 -0.046\n"
     ]
    }
   ],
   "source": [
    "%%R -i conversations\n",
    "library(lme4)\n",
    "\n",
    "m_caregiver_contingency<-glmer('pos_feedback ~ utt_is_intelligible + age + (1 | child_name)', data=conversations, family=binomial)\n",
    "print(summary(m_caregiver_contingency))"
   ]
  },
  {
   "cell_type": "markdown",
   "metadata": {},
   "source": [
    "## Effect of communicative feedback\n",
    "### Positive Feedback: Timing"
   ]
  },
  {
   "cell_type": "code",
   "execution_count": null,
   "metadata": {},
   "outputs": [],
   "source": [
    "%%R -i conversations\n",
    "library(lme4)\n",
    "\n",
    "m_child_contingency<-glmer('follow_up_is_intelligible ~ has_response + age + (1 | child_name)', data=conversations, family=binomial)\n",
    "print(summary(m_child_contingency))"
   ]
  },
  {
   "cell_type": "code",
   "execution_count": 7,
   "metadata": {},
   "outputs": [
    {
     "name": "stdout",
     "output_type": "stream",
     "text": [
      "Generalized linear mixed model fit by maximum likelihood (Laplace\n",
      "  Approximation) [glmerMod]\n",
      " Family: binomial  ( logit )\n",
      "Formula: follow_up_is_intelligible ~ has_response + age + (1 | child_name)\n",
      "   Data: conversations_child_intelligible\n",
      "\n",
      "      AIC       BIC    logLik  deviance  df.resid \n",
      " 249290.1  249333.2 -124641.1  249282.1    355003 \n",
      "\n",
      "Scaled residuals: \n",
      "    Min      1Q  Median      3Q     Max \n",
      "-6.1738  0.2825  0.3077  0.3625  2.1996 \n",
      "\n",
      "Random effects:\n",
      " Groups     Name        Variance Std.Dev.\n",
      " child_name (Intercept) 1.805    1.343   \n",
      "Number of obs: 355007, groups:  child_name, 255\n",
      "\n",
      "Fixed effects:\n",
      "             Estimate Std. Error z value Pr(>|z|)    \n",
      "(Intercept)   0.44039    0.07305   6.029 1.65e-09 ***\n",
      "has_response  0.36107    0.01296  27.869  < 2e-16 ***\n",
      "age           0.82617    0.03099  26.660  < 2e-16 ***\n",
      "---\n",
      "Signif. codes:  0 ‘***’ 0.001 ‘**’ 0.01 ‘*’ 0.05 ‘.’ 0.1 ‘ ’ 1\n",
      "\n",
      "Correlation of Fixed Effects:\n",
      "            (Intr) hs_rsp\n",
      "has_respons -0.080       \n",
      "age         -0.056 -0.046\n"
     ]
    }
   ],
   "source": [
    "%%R -i conversations\n",
    "library(lme4)\n",
    "\n",
    "conversations_child_intelligible = subset(conversations, utt_is_intelligible==1)\n",
    "\n",
    "m_child_contingency<-glmer('follow_up_is_intelligible ~ has_response + age + (1 | child_name)', data=conversations_child_intelligible, family=binomial)\n",
    "print(summary(m_child_contingency))"
   ]
  },
  {
   "cell_type": "code",
   "execution_count": 7,
   "metadata": {
    "collapsed": false,
    "jupyter": {
     "outputs_hidden": false
    },
    "pycharm": {
     "name": "#%%\n"
    }
   },
   "outputs": [
    {
     "name": "stdout",
     "output_type": "stream",
     "text": [
      "Generalized linear mixed model fit by maximum likelihood (Laplace\n",
      "  Approximation) [glmerMod]\n",
      " Family: binomial  ( logit )\n",
      "Formula: follow_up_is_intelligible ~ has_response * age + (1 | child_name)\n",
      "   Data: conversations_child_intelligible\n",
      "\n",
      "      AIC       BIC    logLik  deviance  df.resid \n",
      " 249287.8  249341.7 -124638.9  249277.8    355002 \n",
      "\n",
      "Scaled residuals: \n",
      "    Min      1Q  Median      3Q     Max \n",
      "-6.0843  0.2818  0.3078  0.3624  2.1445 \n",
      "\n",
      "Random effects:\n",
      " Groups     Name        Variance Std.Dev.\n",
      " child_name (Intercept) 1.785    1.336   \n",
      "Number of obs: 355007, groups:  child_name, 255\n",
      "\n",
      "Fixed effects:\n",
      "                 Estimate Std. Error z value Pr(>|z|)    \n",
      "(Intercept)       0.50660    0.06998   7.239 4.51e-13 ***\n",
      "has_response      0.28223    0.03027   9.325  < 2e-16 ***\n",
      "age               0.70039    0.05017  13.960  < 2e-16 ***\n",
      "has_response:age  0.15578    0.05441   2.863   0.0042 ** \n",
      "---\n",
      "Signif. codes:  0 ‘***’ 0.001 ‘**’ 0.01 ‘*’ 0.05 ‘.’ 0.1 ‘ ’ 1\n",
      "\n",
      "Correlation of Fixed Effects:\n",
      "            (Intr) hs_rsp age   \n",
      "has_respons -0.155              \n",
      "age         -0.147  0.708       \n",
      "has_rspns:g  0.135 -0.904 -0.792\n"
     ]
    }
   ],
   "source": [
    "%%R -i conversations\n",
    "library(lme4)\n",
    "\n",
    "conversations_child_intelligible = subset(conversations, utt_is_intelligible==1)\n",
    "\n",
    "m_child_contingency<-glmer('follow_up_is_intelligible ~ has_response * age + (1 | child_name)', data=conversations_child_intelligible, family=binomial)\n",
    "print(summary(m_child_contingency))"
   ]
  },
  {
   "cell_type": "markdown",
   "metadata": {
    "pycharm": {
     "is_executing": true
    }
   },
   "source": [
    "### Negative Feedback: Clarification requests"
   ]
  },
  {
   "cell_type": "code",
   "execution_count": 9,
   "metadata": {},
   "outputs": [
    {
     "name": "stdout",
     "output_type": "stream",
     "text": [
      "Generalized linear mixed model fit by maximum likelihood (Laplace\n",
      "  Approximation) [glmerMod]\n",
      " Family: binomial  ( logit )\n",
      "Formula: is_intelligible ~ is_follow_up + age + (1 | child_name) + (1 |  \n",
      "    conversation_id)\n",
      "   Data: conversations_cr\n",
      "Control: glmerControl(optimizer = \"bobyqa\", optCtrl = list(maxfun = 1e+05))\n",
      "\n",
      "     AIC      BIC   logLik deviance df.resid \n",
      "  4559.0   4590.6  -2274.5   4549.0     4165 \n",
      "\n",
      "Scaled residuals: \n",
      "    Min      1Q  Median      3Q     Max \n",
      "-2.4902 -0.5526  0.3731  0.5227  2.1619 \n",
      "\n",
      "Random effects:\n",
      " Groups          Name        Variance Std.Dev.\n",
      " conversation_id (Intercept) 1.464    1.210   \n",
      " child_name      (Intercept) 1.450    1.204   \n",
      "Number of obs: 4170, groups:  conversation_id, 2085; child_name, 87\n",
      "\n",
      "Fixed effects:\n",
      "             Estimate Std. Error z value Pr(>|z|)    \n",
      "(Intercept)  -1.39240    0.23303  -5.975 2.30e-09 ***\n",
      "is_follow_up  0.40852    0.08339   4.899 9.63e-07 ***\n",
      "age           2.88964    0.31870   9.067  < 2e-16 ***\n",
      "---\n",
      "Signif. codes:  0 ‘***’ 0.001 ‘**’ 0.01 ‘*’ 0.05 ‘.’ 0.1 ‘ ’ 1\n",
      "\n",
      "Correlation of Fixed Effects:\n",
      "            (Intr) is_fl_\n",
      "is_follow_p -0.214       \n",
      "age         -0.504  0.062\n"
     ]
    }
   ],
   "source": [
    "%%R -i conversations_melted\n",
    "library(lme4)\n",
    "\n",
    "conversations_with_response = subset(conversations_melted, has_response == 1)\n",
    "conversations_cr = subset(conversations_with_response, response_is_clarification_request == 1)\n",
    "\n",
    "# TODO: conversation_id or is_follow_up in random effects?\n",
    "m_child_contingency<-glmer('is_intelligible ~ is_follow_up + age + (1 | child_name) + (1 | conversation_id)', data=conversations_cr, family=binomial, control=glmerControl(optimizer=\"bobyqa\", optCtrl=list(maxfun=1e5)))\n",
    "print(summary(m_child_contingency))"
   ]
  },
  {
   "cell_type": "code",
   "execution_count": 10,
   "metadata": {
    "collapsed": false,
    "jupyter": {
     "outputs_hidden": false
    },
    "pycharm": {
     "name": "#%%\n"
    }
   },
   "outputs": [
    {
     "name": "stdout",
     "output_type": "stream",
     "text": [
      "Generalized linear mixed model fit by maximum likelihood (Laplace\n",
      "  Approximation) [glmerMod]\n",
      " Family: binomial  ( logit )\n",
      "Formula: is_intelligible ~ is_follow_up + age + (1 | child_name)\n",
      "   Data: conversations_cr\n",
      "Control: glmerControl(optimizer = \"bobyqa\", optCtrl = list(maxfun = 1e+05))\n",
      "\n",
      "     AIC      BIC   logLik deviance df.resid \n",
      "  4650.1   4675.4  -2321.0   4642.1     4166 \n",
      "\n",
      "Scaled residuals: \n",
      "    Min      1Q  Median      3Q     Max \n",
      "-3.6924 -0.6857  0.4215  0.6039  2.7332 \n",
      "\n",
      "Random effects:\n",
      " Groups     Name        Variance Std.Dev.\n",
      " child_name (Intercept) 1.119    1.058   \n",
      "Number of obs: 4170, groups:  child_name, 87\n",
      "\n",
      "Fixed effects:\n",
      "             Estimate Std. Error z value Pr(>|z|)    \n",
      "(Intercept)  -1.09224    0.18289  -5.972 2.34e-09 ***\n",
      "is_follow_up  0.31907    0.07272   4.388 1.15e-05 ***\n",
      "age           2.15757    0.22123   9.752  < 2e-16 ***\n",
      "---\n",
      "Signif. codes:  0 ‘***’ 0.001 ‘**’ 0.01 ‘*’ 0.05 ‘.’ 0.1 ‘ ’ 1\n",
      "\n",
      "Correlation of Fixed Effects:\n",
      "            (Intr) is_fl_\n",
      "is_follow_p -0.212       \n",
      "age         -0.428  0.018\n"
     ]
    }
   ],
   "source": [
    "%%R -i conversations_melted\n",
    "library(lme4)\n",
    "\n",
    "conversations_with_response = subset(conversations_melted, has_response == 1)\n",
    "conversations_cr = subset(conversations_with_response, response_is_clarification_request == 1)\n",
    "\n",
    "# TODO: conversation_id or is_follow_up in random effects?\n",
    "m_child_contingency<-glmer('is_intelligible ~ is_follow_up + age + (1 | child_name)', data=conversations_cr, family=binomial, control=glmerControl(optimizer=\"bobyqa\", optCtrl=list(maxfun=1e5)))\n",
    "print(summary(m_child_contingency))"
   ]
  },
  {
   "cell_type": "code",
   "execution_count": 11,
   "metadata": {},
   "outputs": [
    {
     "name": "stdout",
     "output_type": "stream",
     "text": [
      "Generalized linear mixed model fit by maximum likelihood (Laplace\n",
      "  Approximation) [glmerMod]\n",
      " Family: binomial  ( logit )\n",
      "Formula: is_intelligible ~ response_is_clarification_request * is_follow_up +  \n",
      "    (1 | age) + (1 | child_name) + (1 | conversation_id)\n",
      "   Data: conversations_with_response\n",
      "Control: glmerControl(optimizer = \"bobyqa\", optCtrl = list(maxfun = 10000))\n",
      "\n",
      "      AIC       BIC    logLik  deviance  df.resid \n",
      " 507258.9  507339.0 -253622.5  507244.9    682695 \n",
      "\n",
      "Scaled residuals: \n",
      "    Min      1Q  Median      3Q     Max \n",
      "-4.9155  0.2631  0.2906  0.3503  4.9846 \n",
      "\n",
      "Random effects:\n",
      " Groups          Name        Variance Std.Dev.\n",
      " conversation_id (Intercept) 0.5358   0.7320  \n",
      " child_name      (Intercept) 4.0746   2.0186  \n",
      " age             (Intercept) 0.4693   0.6851  \n",
      "Number of obs: 682702, groups:  \n",
      "conversation_id, 341351; child_name, 332; age, 7\n",
      "\n",
      "Fixed effects:\n",
      "                                                Estimate Std. Error z value\n",
      "(Intercept)                                     0.323134   0.285795   1.131\n",
      "response_is_clarification_request              -1.226630   0.053925 -22.747\n",
      "is_follow_up                                   -0.104144   0.007317 -14.233\n",
      "response_is_clarification_request:is_follow_up  0.463870   0.074025   6.266\n",
      "                                               Pr(>|z|)    \n",
      "(Intercept)                                       0.258    \n",
      "response_is_clarification_request               < 2e-16 ***\n",
      "is_follow_up                                    < 2e-16 ***\n",
      "response_is_clarification_request:is_follow_up 3.69e-10 ***\n",
      "---\n",
      "Signif. codes:  0 ‘***’ 0.001 ‘**’ 0.01 ‘*’ 0.05 ‘.’ 0.1 ‘ ’ 1\n",
      "\n",
      "Correlation of Fixed Effects:\n",
      "            (Intr) rsp___ is_fl_\n",
      "rspns_s_cl_ -0.002              \n",
      "is_follow_p -0.013  0.070       \n",
      "rspns___:__  0.001 -0.656 -0.099\n",
      "optimizer (bobyqa) convergence code: 0 (OK)\n",
      "unable to evaluate scaled gradient\n",
      "Model failed to converge: degenerate  Hessian with 1 negative eigenvalues\n",
      "\n"
     ]
    }
   ],
   "source": [
    "%%R -i conversations_melted\n",
    "library(lme4)\n",
    "\n",
    "conversations_with_response = subset(conversations_melted, has_response == 1)\n",
    "\n",
    "\n",
    "m_child_contingency<-glmer('is_intelligible ~ response_is_clarification_request * is_follow_up + (1 | age) + (1 | child_name) + (1 | conversation_id)', data=conversations_with_response, family=binomial, control=glmerControl(optimizer=\"bobyqa\", optCtrl=list(maxfun=1e4)))\n",
    "print(summary(m_child_contingency))"
   ]
  },
  {
   "cell_type": "code",
   "execution_count": 11,
   "metadata": {},
   "outputs": [],
   "source": []
  }
 ],
 "metadata": {
  "kernelspec": {
   "display_name": "Python 3",
   "language": "python",
   "name": "python3"
  },
  "language_info": {
   "codemirror_mode": {
    "name": "ipython",
    "version": 3
   },
   "file_extension": ".py",
   "mimetype": "text/x-python",
   "name": "python",
   "nbconvert_exporter": "python",
   "pygments_lexer": "ipython3",
   "version": "3.6.11"
  }
 },
 "nbformat": 4,
 "nbformat_minor": 4
}