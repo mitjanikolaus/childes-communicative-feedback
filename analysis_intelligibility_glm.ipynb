{
 "cells": [
  {
   "cell_type": "code",
   "execution_count": 4,
   "metadata": {},
   "outputs": [],
   "source": [
    "import math\n",
    "import pandas as pd\n",
    "import seaborn as sns\n",
    "import matplotlib.pyplot as plt\n",
    "plt.rcParams['figure.figsize'] = [15, 10]"
   ]
  },
  {
   "cell_type": "code",
   "execution_count": 3,
   "metadata": {
    "pycharm": {
     "is_executing": true
    }
   },
   "outputs": [
    {
     "name": "stderr",
     "output_type": "stream",
     "text": [
      "R[write to console]: trying URL 'https://cloud.r-project.org/src/contrib/lme4_1.1-27.1.tar.gz'\n",
      "\n",
      "R[write to console]: Content type 'application/x-gzip'\n",
      "R[write to console]:  length 3311365 bytes (3.2 MB)\n",
      "\n",
      "R[write to console]: =\n",
      "R[write to console]: =\n",
      "R[write to console]: =\n",
      "R[write to console]: =\n",
      "R[write to console]: =\n",
      "R[write to console]: =\n",
      "R[write to console]: =\n",
      "R[write to console]: =\n",
      "R[write to console]: =\n",
      "R[write to console]: =\n",
      "R[write to console]: =\n",
      "R[write to console]: =\n",
      "R[write to console]: =\n",
      "R[write to console]: =\n",
      "R[write to console]: =\n",
      "R[write to console]: =\n",
      "R[write to console]: =\n",
      "R[write to console]: =\n",
      "R[write to console]: =\n",
      "R[write to console]: =\n",
      "R[write to console]: =\n",
      "R[write to console]: =\n",
      "R[write to console]: =\n",
      "R[write to console]: =\n",
      "R[write to console]: =\n",
      "R[write to console]: =\n",
      "R[write to console]: =\n",
      "R[write to console]: =\n",
      "R[write to console]: =\n",
      "R[write to console]: =\n",
      "R[write to console]: =\n",
      "R[write to console]: =\n",
      "R[write to console]: =\n",
      "R[write to console]: =\n",
      "R[write to console]: =\n",
      "R[write to console]: =\n",
      "R[write to console]: =\n",
      "R[write to console]: =\n",
      "R[write to console]: =\n",
      "R[write to console]: =\n",
      "R[write to console]: =\n",
      "R[write to console]: =\n",
      "R[write to console]: =\n",
      "R[write to console]: =\n",
      "R[write to console]: =\n",
      "R[write to console]: =\n",
      "R[write to console]: =\n",
      "R[write to console]: =\n",
      "R[write to console]: =\n",
      "R[write to console]: =\n",
      "R[write to console]: \n",
      "\n",
      "R[write to console]: downloaded 3.2 MB\n",
      "\n",
      "\n",
      "R[write to console]: \n",
      "\n",
      "R[write to console]: \n",
      "R[write to console]: The downloaded source packages are in\n",
      "\t‘/tmp/RtmpCYI8Do/downloaded_packages’\n",
      "R[write to console]: \n",
      "R[write to console]: \n",
      "\n",
      "R[write to console]: Updating HTML index of packages in '.Library'\n",
      "\n",
      "R[write to console]: Making 'packages.html' ...\n",
      "R[write to console]:  done\n",
      "\n"
     ]
    }
   ],
   "source": [
    "from rpy2.robjects.packages import importr\n",
    "\n",
    "utils = importr(\"utils\")\n",
    "utils.chooseCRANmirror(ind=1)\n",
    "utils.install_packages('lme4')\n",
    "\n",
    "%load_ext rpy2.ipython"
   ]
  },
  {
   "cell_type": "code",
   "execution_count": 5,
   "metadata": {
    "pycharm": {
     "is_executing": true
    }
   },
   "outputs": [
    {
     "data": {
      "text/html": [
       "<div>\n",
       "<style scoped>\n",
       "    .dataframe tbody tr th:only-of-type {\n",
       "        vertical-align: middle;\n",
       "    }\n",
       "\n",
       "    .dataframe tbody tr th {\n",
       "        vertical-align: top;\n",
       "    }\n",
       "\n",
       "    .dataframe thead th {\n",
       "        text-align: right;\n",
       "    }\n",
       "</style>\n",
       "<table border=\"1\" class=\"dataframe\">\n",
       "  <thead>\n",
       "    <tr style=\"text-align: right;\">\n",
       "      <th></th>\n",
       "      <th>utterance_id</th>\n",
       "      <th>speaker_code</th>\n",
       "      <th>transcript_raw</th>\n",
       "      <th>tokens</th>\n",
       "      <th>pos</th>\n",
       "      <th>start_time</th>\n",
       "      <th>end_time</th>\n",
       "      <th>age</th>\n",
       "      <th>corpus</th>\n",
       "      <th>transcript_file</th>\n",
       "      <th>...</th>\n",
       "      <th>follow_up_transcript_raw</th>\n",
       "      <th>follow_up_start_time</th>\n",
       "      <th>follow_up_is_speech_related</th>\n",
       "      <th>follow_up_is_intelligible</th>\n",
       "      <th>follow_up_speech_act</th>\n",
       "      <th>response_latency</th>\n",
       "      <th>response_latency_follow_up</th>\n",
       "      <th>has_response</th>\n",
       "      <th>pos_feedback</th>\n",
       "      <th>response_is_clarification_request</th>\n",
       "    </tr>\n",
       "  </thead>\n",
       "  <tbody>\n",
       "    <tr>\n",
       "      <th>0</th>\n",
       "      <td>9</td>\n",
       "      <td>CHI</td>\n",
       "      <td>&amp;=vocalize .</td>\n",
       "      <td>['.']</td>\n",
       "      <td>['none']</td>\n",
       "      <td>15320.0</td>\n",
       "      <td>16139.0</td>\n",
       "      <td>12</td>\n",
       "      <td>Brent</td>\n",
       "      <td>/home/mitja/data/CHILDES/Brent/c1/000917.cha</td>\n",
       "      <td>...</td>\n",
       "      <td>&amp;=vocalize .</td>\n",
       "      <td>19069.0</td>\n",
       "      <td>1</td>\n",
       "      <td>0</td>\n",
       "      <td>YY</td>\n",
       "      <td>-252.0</td>\n",
       "      <td>2930.0</td>\n",
       "      <td>1</td>\n",
       "      <td>1</td>\n",
       "      <td>0</td>\n",
       "    </tr>\n",
       "    <tr>\n",
       "      <th>1</th>\n",
       "      <td>50</td>\n",
       "      <td>CHI</td>\n",
       "      <td>&amp;=babble .</td>\n",
       "      <td>['.']</td>\n",
       "      <td>['none']</td>\n",
       "      <td>82170.0</td>\n",
       "      <td>82989.0</td>\n",
       "      <td>12</td>\n",
       "      <td>Brent</td>\n",
       "      <td>/home/mitja/data/CHILDES/Brent/c1/000917.cha</td>\n",
       "      <td>...</td>\n",
       "      <td>Dada .</td>\n",
       "      <td>86388.0</td>\n",
       "      <td>1</td>\n",
       "      <td>0</td>\n",
       "      <td>YY</td>\n",
       "      <td>712.0</td>\n",
       "      <td>3399.0</td>\n",
       "      <td>1</td>\n",
       "      <td>1</td>\n",
       "      <td>0</td>\n",
       "    </tr>\n",
       "    <tr>\n",
       "      <th>2</th>\n",
       "      <td>52</td>\n",
       "      <td>CHI</td>\n",
       "      <td>Dada .</td>\n",
       "      <td>['dada', '.']</td>\n",
       "      <td>['n:prop']</td>\n",
       "      <td>86388.0</td>\n",
       "      <td>87007.0</td>\n",
       "      <td>12</td>\n",
       "      <td>Brent</td>\n",
       "      <td>/home/mitja/data/CHILDES/Brent/c1/000917.cha</td>\n",
       "      <td>...</td>\n",
       "      <td>&amp;=babble .</td>\n",
       "      <td>89517.0</td>\n",
       "      <td>1</td>\n",
       "      <td>0</td>\n",
       "      <td>YY</td>\n",
       "      <td>572.0</td>\n",
       "      <td>2510.0</td>\n",
       "      <td>1</td>\n",
       "      <td>1</td>\n",
       "      <td>0</td>\n",
       "    </tr>\n",
       "    <tr>\n",
       "      <th>3</th>\n",
       "      <td>157</td>\n",
       "      <td>CHI</td>\n",
       "      <td>&amp;=vocalize .</td>\n",
       "      <td>['.']</td>\n",
       "      <td>['none']</td>\n",
       "      <td>367633.0</td>\n",
       "      <td>368084.0</td>\n",
       "      <td>12</td>\n",
       "      <td>Brent</td>\n",
       "      <td>/home/mitja/data/CHILDES/Brent/c1/000917.cha</td>\n",
       "      <td>...</td>\n",
       "      <td>&amp;=vocalize .</td>\n",
       "      <td>370041.0</td>\n",
       "      <td>1</td>\n",
       "      <td>0</td>\n",
       "      <td>YY</td>\n",
       "      <td>528.0</td>\n",
       "      <td>1957.0</td>\n",
       "      <td>1</td>\n",
       "      <td>1</td>\n",
       "      <td>0</td>\n",
       "    </tr>\n",
       "    <tr>\n",
       "      <th>4</th>\n",
       "      <td>160</td>\n",
       "      <td>CHI</td>\n",
       "      <td>&amp;=vocalize .</td>\n",
       "      <td>['.']</td>\n",
       "      <td>['none']</td>\n",
       "      <td>372007.0</td>\n",
       "      <td>372211.0</td>\n",
       "      <td>12</td>\n",
       "      <td>Brent</td>\n",
       "      <td>/home/mitja/data/CHILDES/Brent/c1/000917.cha</td>\n",
       "      <td>...</td>\n",
       "      <td>&amp;=vocalize .</td>\n",
       "      <td>381680.0</td>\n",
       "      <td>1</td>\n",
       "      <td>0</td>\n",
       "      <td>YY</td>\n",
       "      <td>6830.0</td>\n",
       "      <td>9469.0</td>\n",
       "      <td>0</td>\n",
       "      <td>0</td>\n",
       "      <td>0</td>\n",
       "    </tr>\n",
       "  </tbody>\n",
       "</table>\n",
       "<p>5 rows × 32 columns</p>\n",
       "</div>"
      ],
      "text/plain": [
       "   utterance_id speaker_code transcript_raw         tokens         pos  \\\n",
       "0             9          CHI   &=vocalize .          ['.']    ['none']   \n",
       "1            50          CHI     &=babble .          ['.']    ['none']   \n",
       "2            52          CHI         Dada .  ['dada', '.']  ['n:prop']   \n",
       "3           157          CHI   &=vocalize .          ['.']    ['none']   \n",
       "4           160          CHI   &=vocalize .          ['.']    ['none']   \n",
       "\n",
       "   start_time  end_time  age corpus  \\\n",
       "0     15320.0   16139.0   12  Brent   \n",
       "1     82170.0   82989.0   12  Brent   \n",
       "2     86388.0   87007.0   12  Brent   \n",
       "3    367633.0  368084.0   12  Brent   \n",
       "4    372007.0  372211.0   12  Brent   \n",
       "\n",
       "                                transcript_file  ... follow_up_transcript_raw  \\\n",
       "0  /home/mitja/data/CHILDES/Brent/c1/000917.cha  ...             &=vocalize .   \n",
       "1  /home/mitja/data/CHILDES/Brent/c1/000917.cha  ...                   Dada .   \n",
       "2  /home/mitja/data/CHILDES/Brent/c1/000917.cha  ...               &=babble .   \n",
       "3  /home/mitja/data/CHILDES/Brent/c1/000917.cha  ...             &=vocalize .   \n",
       "4  /home/mitja/data/CHILDES/Brent/c1/000917.cha  ...             &=vocalize .   \n",
       "\n",
       "  follow_up_start_time  follow_up_is_speech_related  \\\n",
       "0              19069.0                            1   \n",
       "1              86388.0                            1   \n",
       "2              89517.0                            1   \n",
       "3             370041.0                            1   \n",
       "4             381680.0                            1   \n",
       "\n",
       "   follow_up_is_intelligible  follow_up_speech_act  response_latency  \\\n",
       "0                          0                    YY            -252.0   \n",
       "1                          0                    YY             712.0   \n",
       "2                          0                    YY             572.0   \n",
       "3                          0                    YY             528.0   \n",
       "4                          0                    YY            6830.0   \n",
       "\n",
       "  response_latency_follow_up has_response  pos_feedback  \\\n",
       "0                     2930.0            1             1   \n",
       "1                     3399.0            1             1   \n",
       "2                     2510.0            1             1   \n",
       "3                     1957.0            1             1   \n",
       "4                     9469.0            0             0   \n",
       "\n",
       "   response_is_clarification_request  \n",
       "0                                  0  \n",
       "1                                  0  \n",
       "2                                  0  \n",
       "3                                  0  \n",
       "4                                  0  \n",
       "\n",
       "[5 rows x 32 columns]"
      ]
     },
     "execution_count": 5,
     "metadata": {},
     "output_type": "execute_result"
    }
   ],
   "source": [
    "# Load data\n",
    "conversations = pd.read_csv(\"results/contingency/conversations.csv\")\n",
    "conversations_melted = pd.read_csv(\"results/contingency/conversations_melted.csv\")\n",
    "\n",
    "# convert True/False to 0/1:\n",
    "conversations.replace({False: 0, True: 1}, inplace=True)\n",
    "conversations_melted.replace({False: 0, True: 1}, inplace=True)\n",
    "\n",
    "conversations.head()\n"
   ]
  },
  {
   "cell_type": "code",
   "execution_count": 6,
   "metadata": {
    "pycharm": {
     "is_executing": true
    }
   },
   "outputs": [
    {
     "data": {
      "text/plain": [
       "child_name\n",
       "Brent_Alexander                 214\n",
       "Brent_Allen                       3\n",
       "Brent_Brooklyn                   11\n",
       "Brent_Dillon                    663\n",
       "Brent_Henry                     208\n",
       "Brent_Jacob_Abernathy             4\n",
       "Brent_Jaylen                     36\n",
       "Brent_Maggie                    157\n",
       "Brent_Miranda                   197\n",
       "Brent_Morgan                    525\n",
       "Brent_Tabitha                   215\n",
       "Brent_Tabitha_Sims                3\n",
       "Brent_Timothy                   371\n",
       "Brent_Tyrese                      6\n",
       "Brent_Vas                        12\n",
       "Brent_Vas_Coleman                93\n",
       "Brent_Xavier                     11\n",
       "MPI-EVA-Manchester_Eleanor    37541\n",
       "MPI-EVA-Manchester_Fraser     91592\n",
       "Thomas_Brian                    280\n",
       "Thomas_Thomas                 94152\n",
       "dtype: int64"
      ]
     },
     "execution_count": 6,
     "metadata": {},
     "output_type": "execute_result"
    }
   ],
   "source": [
    "# Some children have very few data points:\n",
    "counts = conversations.groupby(\"child_name\").size()\n",
    "counts"
   ]
  },
  {
   "cell_type": "code",
   "execution_count": 7,
   "metadata": {
    "pycharm": {
     "is_executing": true
    }
   },
   "outputs": [],
   "source": [
    "# Exclude children with less than 100 datapoints:\n",
    "# child_names_enough_data = [name for name, count in counts.items() if count > 100]\n",
    "# print(len(conversations))\n",
    "# conversations = conversations[conversations.child_name.isin(child_names_enough_data)]\n",
    "# print(len(conversations))"
   ]
  },
  {
   "cell_type": "code",
   "execution_count": 8,
   "metadata": {},
   "outputs": [],
   "source": [
    "# normalize age\n",
    "min_age, max_age = conversations[\"age\"].min(), conversations[\"age\"].max()\n",
    "conversations[\"age\"] = (conversations[\"age\"] - min_age) / (max_age - min_age) * (1 - 0)"
   ]
  },
  {
   "cell_type": "markdown",
   "metadata": {},
   "source": [
    "## Quality of communicative feedback/ Caregiver contingency\n"
   ]
  },
  {
   "cell_type": "markdown",
   "metadata": {},
   "source": [
    "### Timing:"
   ]
  },
  {
   "cell_type": "code",
   "execution_count": 14,
   "metadata": {
    "pycharm": {
     "is_executing": true
    }
   },
   "outputs": [
    {
     "name": "stdout",
     "output_type": "stream",
     "text": [
      "Generalized linear mixed model fit by maximum likelihood (Laplace\n",
      "  Approximation) [glmerMod]\n",
      " Family: binomial  ( logit )\n",
      "Formula: has_response ~ is_intelligible * age_normalized + (1 | child_name)\n",
      "   Data: conversations\n",
      "\n",
      "     AIC      BIC   logLik deviance df.resid \n",
      "173345.9 173397.7 -86668.0 173335.9   231536 \n",
      "\n",
      "Scaled residuals: \n",
      "    Min      1Q  Median      3Q     Max \n",
      "-4.4872  0.3109  0.3410  0.3895  0.9238 \n",
      "\n",
      "Random effects:\n",
      " Groups     Name        Variance Std.Dev.\n",
      " child_name (Intercept) 0.2714   0.5209  \n",
      "Number of obs: 231541, groups:  child_name, 22\n",
      "\n",
      "Fixed effects:\n",
      "                               Estimate Std. Error z value Pr(>|z|)    \n",
      "(Intercept)                     0.78918    0.10351   7.624 2.46e-14 ***\n",
      "is_intelligible                 0.79457    0.04085  19.449  < 2e-16 ***\n",
      "age_normalized                  0.66146    0.06743   9.810  < 2e-16 ***\n",
      "is_intelligible:age_normalized  0.44585    0.07488   5.954 2.62e-09 ***\n",
      "---\n",
      "Signif. codes:  0 ‘***’ 0.001 ‘**’ 0.01 ‘*’ 0.05 ‘.’ 0.1 ‘ ’ 1\n",
      "\n",
      "Correlation of Fixed Effects:\n",
      "            (Intr) is_ntl ag_nrm\n",
      "is_intllgbl -0.048              \n",
      "age_normlzd -0.047  0.724       \n",
      "is_ntllgb:_  0.038 -0.922 -0.802\n"
     ]
    }
   ],
   "source": [
    "%%R -i conversations\n",
    "library(lme4)\n",
    "\n",
    "m_caregiver_contingency<-glmer('has_response ~ is_intelligible * age + (1 | child_name)', data=conversations, family=binomial)\n",
    "print(summary(m_caregiver_contingency))\n"
   ]
  },
  {
   "cell_type": "markdown",
   "metadata": {},
   "source": [
    "### Clarification requests"
   ]
  },
  {
   "cell_type": "code",
   "execution_count": 17,
   "metadata": {},
   "outputs": [
    {
     "name": "stdout",
     "output_type": "stream",
     "text": [
      "Generalized linear mixed model fit by maximum likelihood (Laplace\n",
      "  Approximation) [glmerMod]\n",
      " Family: binomial  ( logit )\n",
      "Formula: \n",
      "response_is_clarification_request ~ is_intelligible * age_normalized +  \n",
      "    (1 | child_name)\n",
      "   Data: conversations\n",
      "\n",
      "     AIC      BIC   logLik deviance df.resid \n",
      " 15518.4  15570.2  -7754.2  15508.4   231536 \n",
      "\n",
      "Scaled residuals: \n",
      "   Min     1Q Median     3Q    Max \n",
      "-0.283 -0.075 -0.072 -0.031 36.393 \n",
      "\n",
      "Random effects:\n",
      " Groups     Name        Variance Std.Dev.\n",
      " child_name (Intercept) 1.056    1.028   \n",
      "Number of obs: 231541, groups:  child_name, 22\n",
      "\n",
      "Fixed effects:\n",
      "                               Estimate Std. Error z value Pr(>|z|)    \n",
      "(Intercept)                     -3.7426     0.2366 -15.819  < 2e-16 ***\n",
      "is_intelligible                 -2.6123     0.1223 -21.367  < 2e-16 ***\n",
      "age_normalized                  -2.0319     0.2035  -9.987  < 2e-16 ***\n",
      "is_intelligible:age_normalized   1.6127     0.2326   6.934 4.09e-12 ***\n",
      "---\n",
      "Signif. codes:  0 ‘***’ 0.001 ‘**’ 0.01 ‘*’ 0.05 ‘.’ 0.1 ‘ ’ 1\n",
      "\n",
      "Correlation of Fixed Effects:\n",
      "            (Intr) is_ntl ag_nrm\n",
      "is_intllgbl  0.020              \n",
      "age_normlzd -0.090  0.412       \n",
      "is_ntllgb:_ -0.014 -0.893 -0.546\n"
     ]
    }
   ],
   "source": [
    "%%R -i conversations\n",
    "library(lme4)\n",
    "\n",
    "# TODO: filter out no response cases?\n",
    "m_caregiver_contingency<-glmer('response_is_clarification_request ~ is_intelligible * age + (1 | child_name)', data=conversations, family=binomial)\n",
    "print(summary(m_caregiver_contingency))"
   ]
  },
  {
   "cell_type": "markdown",
   "metadata": {},
   "source": [
    "### Combined (Positive Feedback = No pause, no clarification request)"
   ]
  },
  {
   "cell_type": "code",
   "execution_count": 18,
   "metadata": {},
   "outputs": [
    {
     "name": "stdout",
     "output_type": "stream",
     "text": [
      "Generalized linear mixed model fit by maximum likelihood (Laplace\n",
      "  Approximation) [glmerMod]\n",
      " Family: binomial  ( logit )\n",
      "Formula: pos_feedback ~ is_intelligible * age_normalized + (1 | child_name)\n",
      "   Data: conversations\n",
      "\n",
      "     AIC      BIC   logLik deviance df.resid \n",
      "177320.8 177372.6 -88655.4 177310.8   231536 \n",
      "\n",
      "Scaled residuals: \n",
      "    Min      1Q  Median      3Q     Max \n",
      "-4.2027  0.3113  0.3407  0.4003  0.9944 \n",
      "\n",
      "Random effects:\n",
      " Groups     Name        Variance Std.Dev.\n",
      " child_name (Intercept) 0.3022   0.5497  \n",
      "Number of obs: 231541, groups:  child_name, 22\n",
      "\n",
      "Fixed effects:\n",
      "                               Estimate Std. Error z value Pr(>|z|)    \n",
      "(Intercept)                     0.62859    0.09246   6.798 1.06e-11 ***\n",
      "is_intelligible                 1.00836    0.04093  24.636  < 2e-16 ***\n",
      "age_normalized                  0.89248    0.06463  13.809  < 2e-16 ***\n",
      "is_intelligible:age_normalized  0.19024    0.07467   2.548   0.0108 *  \n",
      "---\n",
      "Signif. codes:  0 ‘***’ 0.001 ‘**’ 0.01 ‘*’ 0.05 ‘.’ 0.1 ‘ ’ 1\n",
      "\n",
      "Correlation of Fixed Effects:\n",
      "            (Intr) is_ntl ag_nrm\n",
      "is_intllgbl -0.065              \n",
      "age_normlzd -0.077  0.724       \n",
      "is_ntllgb:_  0.062 -0.925 -0.800\n"
     ]
    }
   ],
   "source": [
    "%%R -i conversations\n",
    "library(lme4)\n",
    "\n",
    "m_caregiver_contingency<-glmer('pos_feedback ~ is_intelligible * age + (1 | child_name)', data=conversations, family=binomial)\n",
    "print(summary(m_caregiver_contingency))"
   ]
  },
  {
   "cell_type": "markdown",
   "metadata": {},
   "source": [
    "## Effect of communicative feedback\n",
    "### Positive Feedback: Timing"
   ]
  },
  {
   "cell_type": "code",
   "execution_count": 9,
   "metadata": {
    "pycharm": {
     "is_executing": true
    }
   },
   "outputs": [
    {
     "name": "stderr",
     "output_type": "stream",
     "text": [
      "R[write to console]: Loading required package: Matrix\n",
      "\n"
     ]
    },
    {
     "name": "stdout",
     "output_type": "stream",
     "text": [
      "Generalized linear mixed model fit by maximum likelihood (Laplace\n",
      "  Approximation) [glmerMod]\n",
      " Family: binomial  ( logit )\n",
      "Formula: follow_up_is_intelligible ~ has_response * age + (1 | child_name)\n",
      "   Data: conversations\n",
      "\n",
      "     AIC      BIC   logLik deviance df.resid \n",
      "116475.9 116527.6 -58233.0 116465.9   226289 \n",
      "\n",
      "Scaled residuals: \n",
      "    Min      1Q  Median      3Q     Max \n",
      "-5.5032  0.2208  0.2588  0.2853  9.1575 \n",
      "\n",
      "Random effects:\n",
      " Groups     Name        Variance Std.Dev.\n",
      " child_name (Intercept) 9.025    3.004   \n",
      "Number of obs: 226294, groups:  child_name, 21\n",
      "\n",
      "Fixed effects:\n",
      "                 Estimate Std. Error z value Pr(>|z|)    \n",
      "(Intercept)       0.05016    0.11687   0.429    0.668    \n",
      "has_response      1.28343    0.04121  31.144   <2e-16 ***\n",
      "age               2.17321    0.06646  32.700   <2e-16 ***\n",
      "has_response:age -1.00427    0.07487 -13.414   <2e-16 ***\n",
      "---\n",
      "Signif. codes:  0 ‘***’ 0.001 ‘**’ 0.01 ‘*’ 0.05 ‘.’ 0.1 ‘ ’ 1\n",
      "\n",
      "Correlation of Fixed Effects:\n",
      "            (Intr) hs_rsp age   \n",
      "has_respons  0.016              \n",
      "age         -0.020  0.562       \n",
      "has_rspns:g -0.009 -0.912 -0.651\n"
     ]
    }
   ],
   "source": [
    "%%R -i conversations\n",
    "library(lme4)\n",
    "\n",
    "# conversations_child_intelligible = subset(conversations, is_intelligible==1)\n",
    "# TODO: only intelligible ones?\n",
    "\n",
    "m_child_contingency<-glmer('follow_up_is_intelligible ~ has_response * age + (1 | child_name)', data=conversations, family=binomial)\n",
    "print(summary(m_child_contingency))"
   ]
  },
  {
   "cell_type": "markdown",
   "metadata": {
    "pycharm": {
     "is_executing": true
    }
   },
   "source": [
    "### Negative Feedback: Clarification requests"
   ]
  },
  {
   "cell_type": "code",
   "execution_count": 12,
   "metadata": {},
   "outputs": [
    {
     "name": "stderr",
     "output_type": "stream",
     "text": [
      "R[write to console]: boundary (singular) fit: see ?isSingular\n",
      "\n"
     ]
    },
    {
     "name": "stdout",
     "output_type": "stream",
     "text": [
      "Generalized linear mixed model fit by maximum likelihood (Laplace\n",
      "  Approximation) [glmerMod]\n",
      " Family: binomial  ( logit )\n",
      "Formula: is_intelligible ~ is_follow_up * age + (1 | child_name) + (1 |  \n",
      "    is_follow_up)\n",
      "   Data: conversations_melted_cr\n",
      "\n",
      "     AIC      BIC   logLik deviance df.resid \n",
      "  2516.1   2550.4  -1252.0   2504.1     2262 \n",
      "\n",
      "Scaled residuals: \n",
      "    Min      1Q  Median      3Q     Max \n",
      "-4.1473 -0.8499  0.4280  0.6868  1.8475 \n",
      "\n",
      "Random effects:\n",
      " Groups       Name        Variance Std.Dev.\n",
      " child_name   (Intercept) 5.069    2.251   \n",
      " is_follow_up (Intercept) 0.000    0.000   \n",
      "Number of obs: 2268, groups:  child_name, 12; is_follow_up, 2\n",
      "\n",
      "Fixed effects:\n",
      "                   Estimate Std. Error z value Pr(>|z|)    \n",
      "(Intercept)      -4.2389374  1.1742263  -3.610 0.000306 ***\n",
      "is_follow_up      1.0963349  0.5262573   2.083 0.037227 *  \n",
      "age               0.0796228  0.0116576   6.830 8.48e-12 ***\n",
      "is_follow_up:age -0.0008143  0.0181168  -0.045 0.964152    \n",
      "---\n",
      "Signif. codes:  0 ‘***’ 0.001 ‘**’ 0.01 ‘*’ 0.05 ‘.’ 0.1 ‘ ’ 1\n",
      "\n",
      "Correlation of Fixed Effects:\n",
      "            (Intr) is_fl_ age   \n",
      "is_follow_p -0.288              \n",
      "age         -0.220  0.591       \n",
      "is_fllw_p:g  0.279 -0.982 -0.589\n",
      "optimizer (Nelder_Mead) convergence code: 0 (OK)\n",
      "boundary (singular) fit: see ?isSingular\n",
      "\n"
     ]
    }
   ],
   "source": [
    "%%R -i conversations_melted\n",
    "library(lme4)\n",
    "\n",
    "conversations_melted_cr = subset(conversations_melted, response_is_clarification_request == 1)\n",
    "\n",
    "\n",
    "m_child_contingency<-glmer('is_intelligible ~ is_follow_up * age + (1 | child_name) + (1 | is_follow_up)', data=conversations_melted_cr, family=binomial)\n",
    "print(summary(m_child_contingency))"
   ]
  },
  {
   "cell_type": "code",
   "execution_count": 29,
   "metadata": {},
   "outputs": [
    {
     "name": "stderr",
     "output_type": "stream",
     "text": [
      "R[write to console]: boundary (singular) fit: see ?isSingular\n",
      "\n"
     ]
    },
    {
     "name": "stdout",
     "output_type": "stream",
     "text": [
      "Generalized linear mixed model fit by maximum likelihood (Laplace\n",
      "  Approximation) [glmerMod]\n",
      " Family: binomial  ( logit )\n",
      "Formula: is_intelligible ~ response_is_clarification_request * trial +  \n",
      "    (1 | child_name) + (1 | trial)\n",
      "   Data: data_new\n",
      "\n",
      "      AIC       BIC    logLik  deviance  df.resid \n",
      " 337864.3  337930.8 -168926.1  337852.3    479094 \n",
      "\n",
      "Scaled residuals: \n",
      "    Min      1Q  Median      3Q     Max \n",
      "-7.1152  0.3116  0.3541  0.3612  7.2539 \n",
      "\n",
      "Random effects:\n",
      " Groups     Name        Variance Std.Dev.\n",
      " child_name (Intercept) 8.11     2.848   \n",
      " trial      (Intercept) 0.00     0.000   \n",
      "Number of obs: 479100, groups:  child_name, 21; trial, 2\n",
      "\n",
      "Fixed effects:\n",
      "                                        Estimate Std. Error z value Pr(>|z|)\n",
      "(Intercept)                              0.81832    0.04948  16.539  < 2e-16\n",
      "response_is_clarification_request       -1.81910    0.04132 -44.024  < 2e-16\n",
      "trial                                   -0.03997    0.00895  -4.466 7.97e-06\n",
      "response_is_clarification_request:trial  0.84940    0.06480  13.108  < 2e-16\n",
      "                                           \n",
      "(Intercept)                             ***\n",
      "response_is_clarification_request       ***\n",
      "trial                                   ***\n",
      "response_is_clarification_request:trial ***\n",
      "---\n",
      "Signif. codes:  0 ‘***’ 0.001 ‘**’ 0.01 ‘*’ 0.05 ‘.’ 0.1 ‘ ’ 1\n",
      "\n",
      "Correlation of Fixed Effects:\n",
      "            (Intr) rsp___ trial \n",
      "rspns_s_cl_  0.027              \n",
      "trial        0.024  0.015       \n",
      "rspns_s_c_: -0.071 -0.569 -0.045\n",
      "optimizer (Nelder_Mead) convergence code: 0 (OK)\n",
      "boundary (singular) fit: see ?isSingular\n",
      "\n"
     ]
    }
   ],
   "source": [
    "%%R -i data_new\n",
    "library(lme4)\n",
    "\n",
    "m_child_contingency<-glmer('is_intelligible ~ response_is_clarification_request * trial + (1 | child_name) + (1 | trial)', data=data_new, family=binomial)\n",
    "print(summary(m_child_contingency))"
   ]
  },
  {
   "cell_type": "code",
   "execution_count": null,
   "metadata": {},
   "outputs": [],
   "source": []
  }
 ],
 "metadata": {
  "kernelspec": {
   "display_name": "Python 3",
   "language": "python",
   "name": "python3"
  },
  "language_info": {
   "codemirror_mode": {
    "name": "ipython",
    "version": 3
   },
   "file_extension": ".py",
   "mimetype": "text/x-python",
   "name": "python",
   "nbconvert_exporter": "python",
   "pygments_lexer": "ipython3",
   "version": "3.7.7"
  }
 },
 "nbformat": 4,
 "nbformat_minor": 4
}