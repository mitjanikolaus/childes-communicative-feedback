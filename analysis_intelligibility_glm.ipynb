{
 "cells": [
  {
   "cell_type": "code",
   "execution_count": 1,
   "metadata": {},
   "outputs": [],
   "source": [
    "import pandas as pd\n",
    "import seaborn as sns\n",
    "import matplotlib.pyplot as plt"
   ]
  },
  {
   "cell_type": "code",
   "execution_count": null,
   "metadata": {},
   "outputs": [],
   "source": [
    "from rpy2.robjects.packages import importr\n",
    "\n",
    "utils = importr(\"utils\")\n",
    "utils.chooseCRANmirror(ind=1)\n",
    "utils.install_packages('lme4')\n",
    "\n",
    "%load_ext rpy2.ipython"
   ]
  },
  {
   "cell_type": "code",
   "execution_count": null,
   "metadata": {},
   "outputs": [],
   "source": [
    "# Load data\n",
    "utterances = pd.read_csv(\"results/intelligibility/conversations.csv\")\n",
    "\n",
    "# convert True/False to 0/1:\n",
    "utterances.replace({False: 0, True: 1}, inplace=True)\n",
    "\n",
    "utterances.head()\n"
   ]
  },
  {
   "cell_type": "code",
   "execution_count": null,
   "metadata": {},
   "outputs": [],
   "source": [
    "# Some children have very few data points:\n",
    "counts = utterances.groupby(\"child_name\").size()\n",
    "counts"
   ]
  },
  {
   "cell_type": "code",
   "execution_count": null,
   "metadata": {},
   "outputs": [],
   "source": [
    "# Exclude children with less than 100 datapoints:\n",
    "# child_names_enough_data = [name for name, count in counts.items() if count > 100]\n",
    "# print(len(utterances))\n",
    "# utterances = utterances[utterances.child_name.isin(child_names_enough_data)]\n",
    "# print(len(utterances))"
   ]
  },
  {
   "cell_type": "markdown",
   "metadata": {},
   "source": [
    "## Caregiver Contingency\n",
    "### By child"
   ]
  },
  {
   "cell_type": "code",
   "execution_count": null,
   "metadata": {},
   "outputs": [],
   "source": [
    "plt.rcParams['figure.figsize'] = [15, 10]\n",
    "plt.figure()\n",
    "sns.barplot(\n",
    "        data=utterances,\n",
    "        x=\"child_name\",\n",
    "        y=\"has_response\",\n",
    "        hue=\"is_intelligible\"\n",
    ")\n",
    "plt.title(\"Caregiver contingency - by child\")\n",
    "plt.xticks(rotation=75)\n",
    "plt.subplots_adjust(bottom=0.3)"
   ]
  },
  {
   "cell_type": "markdown",
   "metadata": {},
   "source": [
    "### By Age"
   ]
  },
  {
   "cell_type": "code",
   "execution_count": null,
   "metadata": {},
   "outputs": [],
   "source": [
    "plt.rcParams['figure.figsize'] = [15, 10]\n",
    "sns.barplot(\n",
    "        data=utterances,\n",
    "        x=\"age\",\n",
    "        y=\"has_response\",\n",
    "        hue=\"is_intelligible\"\n",
    ")\n",
    "plt.title(\"Caregiver contingency - by age\")"
   ]
  },
  {
   "cell_type": "markdown",
   "metadata": {},
   "source": [
    "## Child contingency\n",
    "### By Child\n"
   ]
  },
  {
   "cell_type": "code",
   "execution_count": null,
   "metadata": {},
   "outputs": [],
   "source": [
    "plt.rcParams['figure.figsize'] = [15, 10]\n",
    "plt.figure()\n",
    "sns.barplot(\n",
    "        data=utterances[utterances[\"is_intelligible\"] == 1],\n",
    "        x=\"child_name\",\n",
    "        y=\"follow_up_intelligible\",\n",
    "        hue=\"has_response\"\n",
    ")\n",
    "plt.title(\"Child contingency - by child\")\n",
    "plt.xticks(rotation=75)\n",
    "plt.subplots_adjust(bottom=0.3)"
   ]
  },
  {
   "cell_type": "markdown",
   "metadata": {},
   "source": [
    "### By Age"
   ]
  },
  {
   "cell_type": "code",
   "execution_count": null,
   "metadata": {},
   "outputs": [],
   "source": [
    "plt.rcParams['figure.figsize'] = [15, 10]\n",
    "sns.barplot(\n",
    "        data=utterances[utterances[\"is_intelligible\"] == 1],\n",
    "        x=\"age\",\n",
    "        y=\"follow_up_intelligible\",\n",
    "        hue=\"has_response\"\n",
    ")\n",
    "plt.title(\"Child contingency - by age\")"
   ]
  },
  {
   "cell_type": "markdown",
   "metadata": {},
   "source": [
    "## Caregiver contingency\n",
    "### GLM (with mixed effects)"
   ]
  },
  {
   "cell_type": "code",
   "execution_count": null,
   "metadata": {},
   "outputs": [],
   "source": [
    "# normalize age\n",
    "min_age, max_age = utterances[\"age\"].min(), utterances[\"age\"].max()\n",
    "utterances[\"age\"] = (utterances[\"age\"] - min_age) / (max_age - min_age) * (1 - 0)\n"
   ]
  },
  {
   "cell_type": "code",
   "execution_count": null,
   "metadata": {},
   "outputs": [],
   "source": [
    "%%R -i utterances\n",
    "library(lme4)\n",
    "\n",
    "# Caregiver contingency\n",
    "m_caregiver_contingency<-glmer('has_response ~ is_intelligible * age + (1 | child_name)', data=utterances, family=binomial) #, control=glmerControl(optimizer=\"bobyqa\",optCtrl=list(maxfun=2e5)))\n",
    "print(summary(m_caregiver_contingency))\n"
   ]
  },
  {
   "cell_type": "markdown",
   "metadata": {},
   "source": [
    "## Child Contingency\n",
    "### GLM (with mixed effects)"
   ]
  },
  {
   "cell_type": "code",
   "execution_count": null,
   "metadata": {},
   "outputs": [],
   "source": [
    "%%R -i utterances\n",
    "library(lme4)\n",
    "\n",
    "utterances_child_intelligible = subset(utterances, is_intelligible==1)\n",
    "\n",
    "# Child contingency\n",
    "m_child_contingency<-glmer('follow_up_intelligible ~ has_response * age + (1 | child_name)', data=utterances_child_intelligible, family=binomial)\n",
    "print(summary(m_child_contingency))"
   ]
  },
  {
   "cell_type": "code",
   "execution_count": null,
   "metadata": {},
   "outputs": [],
   "source": []
  },
  {
   "cell_type": "code",
   "execution_count": null,
   "metadata": {},
   "outputs": [],
   "source": []
  },
  {
   "cell_type": "code",
   "execution_count": null,
   "metadata": {},
   "outputs": [],
   "source": []
  }
 ],
 "metadata": {
  "kernelspec": {
   "display_name": "Python 3",
   "language": "python",
   "name": "python3"
  },
  "language_info": {
   "codemirror_mode": {
    "name": "ipython",
    "version": 3
   },
   "file_extension": ".py",
   "mimetype": "text/x-python",
   "name": "python",
   "nbconvert_exporter": "python",
   "pygments_lexer": "ipython3",
   "version": "3.7.7"
  }
 },
 "nbformat": 4,
 "nbformat_minor": 4
}