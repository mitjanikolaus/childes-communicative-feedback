{
 "cells": [
  {
   "cell_type": "code",
   "execution_count": 19,
   "metadata": {},
   "outputs": [],
   "source": [
    "import IPython\n",
    "import math\n",
    "import pandas as pd\n",
    "import seaborn as sns\n",
    "import matplotlib.pyplot as plt\n",
    "plt.rcParams['figure.figsize'] = [15, 10]\n",
    "\n"
   ]
  },
  {
   "cell_type": "code",
   "execution_count": 2,
   "metadata": {},
   "outputs": [],
   "source": [
    "from rpy2.robjects.packages import importr\n",
    "\n",
    "utils = importr(\"utils\")\n",
    "utils.chooseCRANmirror(ind=1)\n",
    "#utils.install_packages('lme4')\n",
    "\n",
    "%load_ext rpy2.ipython"
   ]
  },
  {
   "cell_type": "code",
   "execution_count": 3,
   "metadata": {},
   "outputs": [
    {
     "data": {
      "text/plain": "   utterance_id speaker_code                            tokens  \\\n0          1941          CHI                             ['.']   \n1          2004          CHI                             ['.']   \n2          2009          CHI                  ['frisbee', '.']   \n3          2025          CHI  ['train', 'train', 'penny', '.']   \n4          2043          CHI                  ['car_car', '.']   \n\n               pos       age corpus  \\\n0         ['none']  0.333333  Bloom   \n1         ['none']  0.333333  Bloom   \n2            ['n']  0.333333  Bloom   \n3  ['n', 'v', 'n']  0.333333  Bloom   \n4          ['chi']  0.333333  Bloom   \n\n                                   transcript_file   child_name  \\\n0  /home/mitja/data/CHILDES/Bloom/Peter/010908.cha  Bloom_Peter   \n1  /home/mitja/data/CHILDES/Bloom/Peter/010908.cha  Bloom_Peter   \n2  /home/mitja/data/CHILDES/Bloom/Peter/010908.cha  Bloom_Peter   \n3  /home/mitja/data/CHILDES/Bloom/Peter/010908.cha  Bloom_Peter   \n4  /home/mitja/data/CHILDES/Bloom/Peter/010908.cha  Bloom_Peter   \n\n  speaker_code_next  start_time_next  ... follow_up_start_time  \\\n0               MOT        3146391.0  ...            3160166.0   \n1               MOT        3534418.0  ...            3550229.0   \n2               MOT        3552151.0  ...            3585822.0   \n3               MOT        3625437.0  ...            3630262.0   \n4               MOT        3710723.0  ...            3712392.0   \n\n   follow_up_end_time  follow_up_is_speech_related  follow_up_is_intelligible  \\\n0           3166476.0                          1.0                          0   \n1           3552151.0                          1.0                          1   \n2           3604379.0                          NaN                          0   \n3           3632581.0                          1.0                          1   \n4           3714645.0                          1.0                          1   \n\n   follow_up_speech_act response_latency response_latency_follow_up  \\\n0                    ST              0.0                    13775.0   \n1                    SA              0.0                    15811.0   \n2                    YY              0.0                    33671.0   \n3                    DC              0.0                     4825.0   \n4                    AN              0.0                     1669.0   \n\n   has_response  response_is_clarification_request  pos_feedback  \n0             1                                  0             1  \n1             1                                  0             1  \n2             1                                  0             1  \n3             1                                  0             1  \n4             1                                  0             1  \n\n[5 rows x 33 columns]",
      "text/html": "<div>\n<style scoped>\n    .dataframe tbody tr th:only-of-type {\n        vertical-align: middle;\n    }\n\n    .dataframe tbody tr th {\n        vertical-align: top;\n    }\n\n    .dataframe thead th {\n        text-align: right;\n    }\n</style>\n<table border=\"1\" class=\"dataframe\">\n  <thead>\n    <tr style=\"text-align: right;\">\n      <th></th>\n      <th>utterance_id</th>\n      <th>speaker_code</th>\n      <th>tokens</th>\n      <th>pos</th>\n      <th>age</th>\n      <th>corpus</th>\n      <th>transcript_file</th>\n      <th>child_name</th>\n      <th>speaker_code_next</th>\n      <th>start_time_next</th>\n      <th>...</th>\n      <th>follow_up_start_time</th>\n      <th>follow_up_end_time</th>\n      <th>follow_up_is_speech_related</th>\n      <th>follow_up_is_intelligible</th>\n      <th>follow_up_speech_act</th>\n      <th>response_latency</th>\n      <th>response_latency_follow_up</th>\n      <th>has_response</th>\n      <th>response_is_clarification_request</th>\n      <th>pos_feedback</th>\n    </tr>\n  </thead>\n  <tbody>\n    <tr>\n      <th>0</th>\n      <td>1941</td>\n      <td>CHI</td>\n      <td>['.']</td>\n      <td>['none']</td>\n      <td>0.333333</td>\n      <td>Bloom</td>\n      <td>/home/mitja/data/CHILDES/Bloom/Peter/010908.cha</td>\n      <td>Bloom_Peter</td>\n      <td>MOT</td>\n      <td>3146391.0</td>\n      <td>...</td>\n      <td>3160166.0</td>\n      <td>3166476.0</td>\n      <td>1.0</td>\n      <td>0</td>\n      <td>ST</td>\n      <td>0.0</td>\n      <td>13775.0</td>\n      <td>1</td>\n      <td>0</td>\n      <td>1</td>\n    </tr>\n    <tr>\n      <th>1</th>\n      <td>2004</td>\n      <td>CHI</td>\n      <td>['.']</td>\n      <td>['none']</td>\n      <td>0.333333</td>\n      <td>Bloom</td>\n      <td>/home/mitja/data/CHILDES/Bloom/Peter/010908.cha</td>\n      <td>Bloom_Peter</td>\n      <td>MOT</td>\n      <td>3534418.0</td>\n      <td>...</td>\n      <td>3550229.0</td>\n      <td>3552151.0</td>\n      <td>1.0</td>\n      <td>1</td>\n      <td>SA</td>\n      <td>0.0</td>\n      <td>15811.0</td>\n      <td>1</td>\n      <td>0</td>\n      <td>1</td>\n    </tr>\n    <tr>\n      <th>2</th>\n      <td>2009</td>\n      <td>CHI</td>\n      <td>['frisbee', '.']</td>\n      <td>['n']</td>\n      <td>0.333333</td>\n      <td>Bloom</td>\n      <td>/home/mitja/data/CHILDES/Bloom/Peter/010908.cha</td>\n      <td>Bloom_Peter</td>\n      <td>MOT</td>\n      <td>3552151.0</td>\n      <td>...</td>\n      <td>3585822.0</td>\n      <td>3604379.0</td>\n      <td>NaN</td>\n      <td>0</td>\n      <td>YY</td>\n      <td>0.0</td>\n      <td>33671.0</td>\n      <td>1</td>\n      <td>0</td>\n      <td>1</td>\n    </tr>\n    <tr>\n      <th>3</th>\n      <td>2025</td>\n      <td>CHI</td>\n      <td>['train', 'train', 'penny', '.']</td>\n      <td>['n', 'v', 'n']</td>\n      <td>0.333333</td>\n      <td>Bloom</td>\n      <td>/home/mitja/data/CHILDES/Bloom/Peter/010908.cha</td>\n      <td>Bloom_Peter</td>\n      <td>MOT</td>\n      <td>3625437.0</td>\n      <td>...</td>\n      <td>3630262.0</td>\n      <td>3632581.0</td>\n      <td>1.0</td>\n      <td>1</td>\n      <td>DC</td>\n      <td>0.0</td>\n      <td>4825.0</td>\n      <td>1</td>\n      <td>0</td>\n      <td>1</td>\n    </tr>\n    <tr>\n      <th>4</th>\n      <td>2043</td>\n      <td>CHI</td>\n      <td>['car_car', '.']</td>\n      <td>['chi']</td>\n      <td>0.333333</td>\n      <td>Bloom</td>\n      <td>/home/mitja/data/CHILDES/Bloom/Peter/010908.cha</td>\n      <td>Bloom_Peter</td>\n      <td>MOT</td>\n      <td>3710723.0</td>\n      <td>...</td>\n      <td>3712392.0</td>\n      <td>3714645.0</td>\n      <td>1.0</td>\n      <td>1</td>\n      <td>AN</td>\n      <td>0.0</td>\n      <td>1669.0</td>\n      <td>1</td>\n      <td>0</td>\n      <td>1</td>\n    </tr>\n  </tbody>\n</table>\n<p>5 rows × 33 columns</p>\n</div>"
     },
     "execution_count": 3,
     "metadata": {},
     "output_type": "execute_result"
    }
   ],
   "source": [
    "# Load data\n",
    "conversations = pd.read_csv(\"results/intelligibility/conversations.csv\")\n",
    "conversations_melted = pd.read_csv(\"results/intelligibility/conversations_melted.csv\")\n",
    "\n",
    "# convert True/False to 0/1:\n",
    "conversations.replace({False: 0, True: 1}, inplace=True)\n",
    "conversations_melted.replace({False: 0, True: 1}, inplace=True)\n",
    "\n",
    "# normalize age\n",
    "min_age, max_age = conversations[\"age\"].min(), conversations[\"age\"].max()\n",
    "conversations[\"age\"] = (conversations[\"age\"] - min_age) / (max_age - min_age) * (1 - 0)\n",
    "conversations_melted[\"age\"] = (conversations_melted[\"age\"] - min_age) / (max_age - min_age) * (1 - 0)\n",
    "\n",
    "conversations.head()"
   ]
  },
  {
   "cell_type": "markdown",
   "metadata": {},
   "source": [
    "## Quality of communicative feedback/ Caregiver contingency\n"
   ]
  },
  {
   "cell_type": "markdown",
   "metadata": {},
   "source": [
    "### Timing:"
   ]
  },
  {
   "cell_type": "code",
   "execution_count": 4,
   "metadata": {},
   "outputs": [
    {
     "name": "stderr",
     "output_type": "stream",
     "text": [
      "R[write to console]: Loading required package: Matrix\n",
      "\n"
     ]
    },
    {
     "name": "stdout",
     "output_type": "stream",
     "text": [
      "Generalized linear mixed model fit by maximum likelihood (Laplace\n",
      "  Approximation) [glmerMod]\n",
      " Family: binomial  ( logit )\n",
      "Formula: has_response ~ utt_is_intelligible * age + (1 | child_name)\n",
      "   Data: conversations\n",
      "\n",
      "      AIC       BIC    logLik  deviance  df.resid \n",
      " 405787.6  405842.4 -202888.8  405777.6    430638 \n",
      "\n",
      "Scaled residuals: \n",
      "     Min       1Q   Median       3Q      Max \n",
      "-12.9356   0.1578   0.4862   0.5605   1.3347 \n",
      "\n",
      "Random effects:\n",
      " Groups     Name        Variance Std.Dev.\n",
      " child_name (Intercept) 1.95     1.397   \n",
      "Number of obs: 430643, groups:  child_name, 189\n",
      "\n",
      "Fixed effects:\n",
      "                        Estimate Std. Error z value Pr(>|z|)    \n",
      "(Intercept)              2.60413    0.07489  34.774  < 2e-16 ***\n",
      "utt_is_intelligible      0.65228    0.02211  29.507  < 2e-16 ***\n",
      "age                      0.64960    0.03773  17.217  < 2e-16 ***\n",
      "utt_is_intelligible:age  0.25084    0.04030   6.225 4.82e-10 ***\n",
      "---\n",
      "Signif. codes:  0 ‘***’ 0.001 ‘**’ 0.01 ‘*’ 0.05 ‘.’ 0.1 ‘ ’ 1\n",
      "\n",
      "Correlation of Fixed Effects:\n",
      "            (Intr) utt_s_ age   \n",
      "utt_s_ntllg -0.176              \n",
      "age         -0.215  0.657       \n",
      "utt_s_ntll:  0.194 -0.881 -0.764\n"
     ]
    }
   ],
   "source": [
    "%%R -i conversations\n",
    "library(lme4)\n",
    "\n",
    "m_caregiver_contingency<-glmer('has_response ~ utt_is_intelligible * age + (1 | child_name)', data=conversations, family=binomial)\n",
    "print(summary(m_caregiver_contingency))\n"
   ]
  },
  {
   "cell_type": "markdown",
   "metadata": {},
   "source": [
    "### Clarification requests"
   ]
  },
  {
   "cell_type": "code",
   "execution_count": 5,
   "metadata": {},
   "outputs": [],
   "source": [
    "conversations[\"response_is_no_clarification_request\"] = conversations.response_is_clarification_request.replace({0:1, 1:0})\n"
   ]
  },
  {
   "cell_type": "code",
   "execution_count": 18,
   "metadata": {},
   "outputs": [
    {
     "name": "stdout",
     "output_type": "stream",
     "text": [
      "Generalized linear mixed model fit by maximum likelihood (Laplace\n",
      "  Approximation) [glmerMod]\n",
      " Family: binomial  ( logit )\n",
      "Formula: response_is_clarification_request ~ utt_is_intelligible * age +  \n",
      "    (1 | child_name)\n",
      "   Data: conversations_with_response\n",
      "\n",
      "     AIC      BIC   logLik deviance df.resid \n",
      " 23723.2  23776.9 -11856.6  23713.2   340371 \n",
      "\n",
      "Scaled residuals: \n",
      "   Min     1Q Median     3Q    Max \n",
      "-0.279 -0.085 -0.070 -0.033 34.195 \n",
      "\n",
      "Random effects:\n",
      " Groups     Name        Variance Std.Dev.\n",
      " child_name (Intercept) 0.7456   0.8635  \n",
      "Number of obs: 340376, groups:  child_name, 189\n",
      "\n",
      "Fixed effects:\n",
      "                        Estimate Std. Error z value Pr(>|z|)    \n",
      "(Intercept)             -4.05184    0.11802 -34.332  < 2e-16 ***\n",
      "utt_is_intelligible     -1.14697    0.09800 -11.703  < 2e-16 ***\n",
      "age                     -0.44901    0.15167  -2.960  0.00307 ** \n",
      "utt_is_intelligible:age  0.09353    0.17610   0.531  0.59532    \n",
      "---\n",
      "Signif. codes:  0 ‘***’ 0.001 ‘**’ 0.01 ‘*’ 0.05 ‘.’ 0.1 ‘ ’ 1\n",
      "\n",
      "Correlation of Fixed Effects:\n",
      "            (Intr) utt_s_ age   \n",
      "utt_s_ntllg -0.253              \n",
      "age         -0.378  0.461       \n",
      "utt_s_ntll:  0.215 -0.858 -0.591\n"
     ]
    }
   ],
   "source": [
    "%%R -i conversations\n",
    "library(lme4)\n",
    "\n",
    "conversations_with_response = subset(conversations, has_response==1)\n",
    "\n",
    "m_caregiver_contingency<-glmer('response_is_clarification_request ~ utt_is_intelligible * age + (1 | child_name)', data=conversations_with_response, family=binomial)\n",
    "print(summary(m_caregiver_contingency))"
   ]
  },
  {
   "cell_type": "markdown",
   "metadata": {},
   "source": [
    "### Combined (Positive Feedback = No pause, no clarification request)"
   ]
  },
  {
   "cell_type": "code",
   "execution_count": 7,
   "metadata": {},
   "outputs": [
    {
     "name": "stdout",
     "output_type": "stream",
     "text": [
      "Generalized linear mixed model fit by maximum likelihood (Laplace\n",
      "  Approximation) [glmerMod]\n",
      " Family: binomial  ( logit )\n",
      "Formula: pos_feedback ~ utt_is_intelligible * age + (1 | child_name)\n",
      "   Data: conversations\n",
      "\n",
      "      AIC       BIC    logLik  deviance  df.resid \n",
      " 412469.8  412524.6 -206229.9  412459.8    430638 \n",
      "\n",
      "Scaled residuals: \n",
      "     Min       1Q   Median       3Q      Max \n",
      "-10.4584   0.1761   0.5034   0.5664   1.3584 \n",
      "\n",
      "Random effects:\n",
      " Groups     Name        Variance Std.Dev.\n",
      " child_name (Intercept) 1.36     1.166   \n",
      "Number of obs: 430643, groups:  child_name, 189\n",
      "\n",
      "Fixed effects:\n",
      "                        Estimate Std. Error z value Pr(>|z|)    \n",
      "(Intercept)              2.20415    0.05347  41.221  < 2e-16 ***\n",
      "utt_is_intelligible      0.68356    0.02189  31.229  < 2e-16 ***\n",
      "age                      0.66740    0.03751  17.791  < 2e-16 ***\n",
      "utt_is_intelligible:age  0.22541    0.04085   5.518 3.43e-08 ***\n",
      "---\n",
      "Signif. codes:  0 ‘***’ 0.001 ‘**’ 0.01 ‘*’ 0.05 ‘.’ 0.1 ‘ ’ 1\n",
      "\n",
      "Correlation of Fixed Effects:\n",
      "            (Intr) utt_s_ age   \n",
      "utt_s_ntllg -0.022              \n",
      "age         -0.024  0.666       \n",
      "utt_s_ntll:  0.017 -0.884 -0.772\n"
     ]
    }
   ],
   "source": [
    "%%R -i conversations\n",
    "library(lme4)\n",
    "\n",
    "m_caregiver_contingency<-glmer('pos_feedback ~ utt_is_intelligible * age + (1 | child_name)', data=conversations, family=binomial)\n",
    "print(summary(m_caregiver_contingency))"
   ]
  },
  {
   "cell_type": "markdown",
   "metadata": {},
   "source": [
    "## Effect of communicative feedback\n",
    "### Positive Feedback: Timing"
   ]
  },
  {
   "cell_type": "code",
   "execution_count": 8,
   "metadata": {},
   "outputs": [
    {
     "name": "stdout",
     "output_type": "stream",
     "text": [
      "Generalized linear mixed model fit by maximum likelihood (Laplace\n",
      "  Approximation) [glmerMod]\n",
      " Family: binomial  ( logit )\n",
      "Formula: follow_up_is_intelligible ~ has_response * age + (1 | child_name)\n",
      "   Data: conversations\n",
      "\n",
      "      AIC       BIC    logLik  deviance  df.resid \n",
      " 340043.8  340098.6 -170016.9  340033.8    430638 \n",
      "\n",
      "Scaled residuals: \n",
      "    Min      1Q  Median      3Q     Max \n",
      "-5.8845  0.2476  0.3230  0.4086 12.1736 \n",
      "\n",
      "Random effects:\n",
      " Groups     Name        Variance Std.Dev.\n",
      " child_name (Intercept) 3.207    1.791   \n",
      "Number of obs: 430643, groups:  child_name, 189\n",
      "\n",
      "Fixed effects:\n",
      "                 Estimate Std. Error z value Pr(>|z|)    \n",
      "(Intercept)      -0.47305    0.07022  -6.736 1.62e-11 ***\n",
      "has_response      0.40228    0.02434  16.531  < 2e-16 ***\n",
      "age               1.31050    0.04384  29.890  < 2e-16 ***\n",
      "has_response:age  0.13527    0.04634   2.919  0.00351 ** \n",
      "---\n",
      "Signif. codes:  0 ‘***’ 0.001 ‘**’ 0.01 ‘*’ 0.05 ‘.’ 0.1 ‘ ’ 1\n",
      "\n",
      "Correlation of Fixed Effects:\n",
      "            (Intr) hs_rsp age   \n",
      "has_respons -0.074              \n",
      "age         -0.038  0.730       \n",
      "has_rspns:g  0.064 -0.900 -0.819\n"
     ]
    }
   ],
   "source": [
    "%%R -i conversations\n",
    "library(lme4)\n",
    "\n",
    "m_child_contingency<-glmer('follow_up_is_intelligible ~ has_response * age + (1 | child_name)', data=conversations, family=binomial)\n",
    "print(summary(m_child_contingency))"
   ]
  },
  {
   "cell_type": "code",
   "execution_count": 9,
   "metadata": {},
   "outputs": [
    {
     "name": "stdout",
     "output_type": "stream",
     "text": [
      "Generalized linear mixed model fit by maximum likelihood (Laplace\n",
      "  Approximation) [glmerMod]\n",
      " Family: binomial  ( logit )\n",
      "Formula: follow_up_is_intelligible ~ has_response * age + (1 | child_name)\n",
      "   Data: conversations_child_intelligible\n",
      "\n",
      "      AIC       BIC    logLik  deviance  df.resid \n",
      " 248756.5  248810.4 -124373.3  248746.5    354438 \n",
      "\n",
      "Scaled residuals: \n",
      "    Min      1Q  Median      3Q     Max \n",
      "-5.8631  0.2818  0.3078  0.3625  2.1229 \n",
      "\n",
      "Random effects:\n",
      " Groups     Name        Variance Std.Dev.\n",
      " child_name (Intercept) 1.828    1.352   \n",
      "Number of obs: 354443, groups:  child_name, 178\n",
      "\n",
      "Fixed effects:\n",
      "                 Estimate Std. Error z value Pr(>|z|)    \n",
      "(Intercept)       0.50781    0.08542   5.945 2.77e-09 ***\n",
      "has_response      0.28359    0.02862   9.910  < 2e-16 ***\n",
      "age               0.70087    0.04726  14.829  < 2e-16 ***\n",
      "has_response:age  0.15431    0.05153   2.995  0.00275 ** \n",
      "---\n",
      "Signif. codes:  0 ‘***’ 0.001 ‘**’ 0.01 ‘*’ 0.05 ‘.’ 0.1 ‘ ’ 1\n",
      "\n",
      "Correlation of Fixed Effects:\n",
      "            (Intr) hs_rsp age   \n",
      "has_respons -0.117              \n",
      "age         -0.081  0.673       \n",
      "has_rspns:g  0.087 -0.892 -0.766\n"
     ]
    }
   ],
   "source": [
    "%%R -i conversations\n",
    "library(lme4)\n",
    "\n",
    "conversations_child_intelligible = subset(conversations, utt_is_intelligible==1)\n",
    "\n",
    "m_child_contingency<-glmer('follow_up_is_intelligible ~ has_response * age + (1 | child_name)', data=conversations_child_intelligible, family=binomial)\n",
    "print(summary(m_child_contingency))"
   ]
  },
  {
   "cell_type": "markdown",
   "metadata": {
    "pycharm": {
     "is_executing": true
    }
   },
   "source": [
    "### Negative Feedback: Clarification requests"
   ]
  },
  {
   "cell_type": "code",
   "execution_count": 10,
   "metadata": {},
   "outputs": [
    {
     "name": "stdout",
     "output_type": "stream",
     "text": [
      "Generalized linear mixed model fit by maximum likelihood (Laplace\n",
      "  Approximation) [glmerMod]\n",
      " Family: binomial  ( logit )\n",
      "Formula: is_intelligible ~ is_follow_up * age + (1 | child_name) + (1 |  \n",
      "    conversation_id)\n",
      "   Data: conversations_cr\n",
      "Control: glmerControl(optimizer = \"bobyqa\", optCtrl = list(maxfun = 1e+05))\n",
      "\n",
      "     AIC      BIC   logLik deviance df.resid \n",
      "  4538.1   4576.0  -2263.0   4526.1     4140 \n",
      "\n",
      "Scaled residuals: \n",
      "    Min      1Q  Median      3Q     Max \n",
      "-2.5431 -0.5561  0.3747  0.5258  2.2593 \n",
      "\n",
      "Random effects:\n",
      " Groups          Name        Variance Std.Dev.\n",
      " conversation_id (Intercept) 1.462    1.209   \n",
      " child_name      (Intercept) 1.382    1.175   \n",
      "Number of obs: 4146, groups:  conversation_id, 2073; child_name, 79\n",
      "\n",
      "Fixed effects:\n",
      "                 Estimate Std. Error z value Pr(>|z|)    \n",
      "(Intercept)       -1.3939     0.2573  -5.418 6.03e-08 ***\n",
      "is_follow_up       0.6010     0.2199   2.734  0.00627 ** \n",
      "age                3.0589     0.3849   7.947 1.91e-15 ***\n",
      "is_follow_up:age  -0.4183     0.4291  -0.975  0.32964    \n",
      "---\n",
      "Signif. codes:  0 ‘***’ 0.001 ‘**’ 0.01 ‘*’ 0.05 ‘.’ 0.1 ‘ ’ 1\n",
      "\n",
      "Correlation of Fixed Effects:\n",
      "            (Intr) is_fl_ age   \n",
      "is_follow_p -0.454              \n",
      "age         -0.632  0.535       \n",
      "is_fllw_p:g  0.412 -0.925 -0.559\n"
     ]
    }
   ],
   "source": [
    "%%R -i conversations_melted\n",
    "library(lme4)\n",
    "\n",
    "conversations_with_response = subset(conversations_melted, has_response == 1)\n",
    "conversations_cr = subset(conversations_with_response, response_is_clarification_request == 1)\n",
    "\n",
    "# TODO: conversation_id or is_follow_up in random effects?\n",
    "m_child_contingency<-glmer('is_intelligible ~ is_follow_up * age + (1 | child_name) + (1 | conversation_id)', data=conversations_cr, family=binomial, control=glmerControl(optimizer=\"bobyqa\", optCtrl=list(maxfun=1e5)))\n",
    "print(summary(m_child_contingency))"
   ]
  },
  {
   "cell_type": "code",
   "execution_count": 11,
   "metadata": {},
   "outputs": [
    {
     "name": "stderr",
     "output_type": "stream",
     "text": [
      "R[write to console]: boundary (singular) fit: see ?isSingular\n",
      "\n"
     ]
    },
    {
     "name": "stdout",
     "output_type": "stream",
     "text": [
      "Generalized linear mixed model fit by maximum likelihood (Laplace\n",
      "  Approximation) [glmerMod]\n",
      " Family: binomial  ( logit )\n",
      "Formula: is_intelligible ~ response_is_clarification_request * is_follow_up +  \n",
      "    (1 | age) + (1 | child_name) + (1 | is_follow_up)\n",
      "   Data: conversations_with_response\n",
      "Control: glmerControl(optimizer = \"bobyqa\", optCtrl = list(maxfun = 10000))\n",
      "\n",
      "      AIC       BIC    logLik  deviance  df.resid \n",
      " 507498.9  507578.9 -253742.4  507484.9    680745 \n",
      "\n",
      "Scaled residuals: \n",
      "    Min      1Q  Median      3Q     Max \n",
      "-5.8686  0.2756  0.3064  0.3561 14.4815 \n",
      "\n",
      "Random effects:\n",
      " Groups       Name        Variance Std.Dev.\n",
      " child_name   (Intercept) 2.9612   1.7208  \n",
      " age          (Intercept) 0.3725   0.6103  \n",
      " is_follow_up (Intercept) 0.0000   0.0000  \n",
      "Number of obs: 680752, groups:  child_name, 189; age, 7; is_follow_up, 2\n",
      "\n",
      "Fixed effects:\n",
      "                                                Estimate Std. Error z value\n",
      "(Intercept)                                     0.704272   0.068233  10.322\n",
      "response_is_clarification_request              -1.121288   0.042728 -26.242\n",
      "is_follow_up                                   -0.096967   0.007256 -13.363\n",
      "response_is_clarification_request:is_follow_up  0.419970   0.061640   6.813\n",
      "                                               Pr(>|z|)    \n",
      "(Intercept)                                     < 2e-16 ***\n",
      "response_is_clarification_request               < 2e-16 ***\n",
      "is_follow_up                                    < 2e-16 ***\n",
      "response_is_clarification_request:is_follow_up 9.54e-12 ***\n",
      "---\n",
      "Signif. codes:  0 ‘***’ 0.001 ‘**’ 0.01 ‘*’ 0.05 ‘.’ 0.1 ‘ ’ 1\n",
      "\n",
      "Correlation of Fixed Effects:\n",
      "            (Intr) rsp___ is_fl_\n",
      "rspns_s_cl_  0.051              \n",
      "is_follow_p  0.030  0.069       \n",
      "rspns___:__ -0.053 -0.587 -0.100\n",
      "optimizer (bobyqa) convergence code: 0 (OK)\n",
      "boundary (singular) fit: see ?isSingular\n",
      "\n"
     ]
    }
   ],
   "source": [
    "%%R -i conversations_melted\n",
    "library(lme4)\n",
    "\n",
    "conversations_with_response = subset(conversations_melted, has_response == 1)\n",
    "\n",
    "\n",
    "m_child_contingency<-glmer('is_intelligible ~ response_is_clarification_request * is_follow_up + (1 | age) + (1 | child_name) + (1 | is_follow_up)', data=conversations_with_response, family=binomial, control=glmerControl(optimizer=\"bobyqa\", optCtrl=list(maxfun=1e4)))\n",
    "print(summary(m_child_contingency))"
   ]
  },
  {
   "cell_type": "code",
   "execution_count": 11,
   "metadata": {},
   "outputs": [],
   "source": []
  },
  {
   "cell_type": "code",
   "execution_count": 11,
   "metadata": {},
   "outputs": [],
   "source": []
  }
 ],
 "metadata": {
  "kernelspec": {
   "display_name": "Python 3",
   "language": "python",
   "name": "python3"
  },
  "language_info": {
   "codemirror_mode": {
    "name": "ipython",
    "version": 3
   },
   "file_extension": ".py",
   "mimetype": "text/x-python",
   "name": "python",
   "nbconvert_exporter": "python",
   "pygments_lexer": "ipython3",
   "version": "3.7.7"
  }
 },
 "nbformat": 4,
 "nbformat_minor": 4
}