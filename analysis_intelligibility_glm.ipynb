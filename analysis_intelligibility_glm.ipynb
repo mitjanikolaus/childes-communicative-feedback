{
 "cells": [
  {
   "cell_type": "code",
   "execution_count": 2,
   "metadata": {},
   "outputs": [],
   "source": [
    "import math\n",
    "import pandas as pd\n",
    "import seaborn as sns\n",
    "import matplotlib.pyplot as plt\n",
    "plt.rcParams['figure.figsize'] = [15, 10]"
   ]
  },
  {
   "cell_type": "code",
   "execution_count": 3,
   "metadata": {
    "pycharm": {
     "is_executing": true
    }
   },
   "outputs": [],
   "source": [
    "from rpy2.robjects.packages import importr\n",
    "\n",
    "utils = importr(\"utils\")\n",
    "utils.chooseCRANmirror(ind=1)\n",
    "#utils.install_packages('lme4')\n",
    "\n",
    "%load_ext rpy2.ipython"
   ]
  },
  {
   "cell_type": "code",
   "execution_count": 32,
   "metadata": {
    "pycharm": {
     "is_executing": true
    }
   },
   "outputs": [
    {
     "data": {
      "text/html": [
       "<div>\n",
       "<style scoped>\n",
       "    .dataframe tbody tr th:only-of-type {\n",
       "        vertical-align: middle;\n",
       "    }\n",
       "\n",
       "    .dataframe tbody tr th {\n",
       "        vertical-align: top;\n",
       "    }\n",
       "\n",
       "    .dataframe thead th {\n",
       "        text-align: right;\n",
       "    }\n",
       "</style>\n",
       "<table border=\"1\" class=\"dataframe\">\n",
       "  <thead>\n",
       "    <tr style=\"text-align: right;\">\n",
       "      <th></th>\n",
       "      <th>utterance_id</th>\n",
       "      <th>speaker_code</th>\n",
       "      <th>tokens</th>\n",
       "      <th>pos</th>\n",
       "      <th>age</th>\n",
       "      <th>corpus</th>\n",
       "      <th>transcript_file</th>\n",
       "      <th>child_name</th>\n",
       "      <th>speaker_code_next</th>\n",
       "      <th>start_time_next</th>\n",
       "      <th>...</th>\n",
       "      <th>follow_up_start_time</th>\n",
       "      <th>follow_up_end_time</th>\n",
       "      <th>follow_up_is_speech_related</th>\n",
       "      <th>follow_up_is_intelligible</th>\n",
       "      <th>follow_up_speech_act</th>\n",
       "      <th>response_latency</th>\n",
       "      <th>response_latency_follow_up</th>\n",
       "      <th>has_response</th>\n",
       "      <th>response_is_clarification_request</th>\n",
       "      <th>pos_feedback</th>\n",
       "    </tr>\n",
       "  </thead>\n",
       "  <tbody>\n",
       "    <tr>\n",
       "      <th>0</th>\n",
       "      <td>28</td>\n",
       "      <td>CHI</td>\n",
       "      <td>[\"let's\", 'get', 'some', 'glue', 'too', '.']</td>\n",
       "      <td>['v', 'pro:obj', 'v', 'qn', 'n', 'adv']</td>\n",
       "      <td>0.5</td>\n",
       "      <td>Bloom</td>\n",
       "      <td>/home/mitja/data/CHILDES/Bloom/Peter/020324.cha</td>\n",
       "      <td>Bloom_Peter</td>\n",
       "      <td>MOT</td>\n",
       "      <td>96687.0</td>\n",
       "      <td>...</td>\n",
       "      <td>97154.0</td>\n",
       "      <td>100026.0</td>\n",
       "      <td>1.0</td>\n",
       "      <td>1</td>\n",
       "      <td>PF</td>\n",
       "      <td>0.0</td>\n",
       "      <td>467.0</td>\n",
       "      <td>1</td>\n",
       "      <td>0</td>\n",
       "      <td>1</td>\n",
       "    </tr>\n",
       "    <tr>\n",
       "      <th>1</th>\n",
       "      <td>50</td>\n",
       "      <td>CHI</td>\n",
       "      <td>['i', 'get', 'some', 'glue', 'too', '.']</td>\n",
       "      <td>['pro:sub', 'v', 'qn', 'n', 'adv']</td>\n",
       "      <td>0.5</td>\n",
       "      <td>Bloom</td>\n",
       "      <td>/home/mitja/data/CHILDES/Bloom/Peter/020324.cha</td>\n",
       "      <td>Bloom_Peter</td>\n",
       "      <td>MOT</td>\n",
       "      <td>148262.0</td>\n",
       "      <td>...</td>\n",
       "      <td>150114.0</td>\n",
       "      <td>151434.0</td>\n",
       "      <td>1.0</td>\n",
       "      <td>0</td>\n",
       "      <td>AA</td>\n",
       "      <td>0.0</td>\n",
       "      <td>1852.0</td>\n",
       "      <td>0</td>\n",
       "      <td>0</td>\n",
       "      <td>0</td>\n",
       "    </tr>\n",
       "    <tr>\n",
       "      <th>2</th>\n",
       "      <td>52</td>\n",
       "      <td>CHI</td>\n",
       "      <td>['broken', '.']</td>\n",
       "      <td>['part']</td>\n",
       "      <td>0.5</td>\n",
       "      <td>Bloom</td>\n",
       "      <td>/home/mitja/data/CHILDES/Bloom/Peter/020324.cha</td>\n",
       "      <td>Bloom_Peter</td>\n",
       "      <td>MOT</td>\n",
       "      <td>151434.0</td>\n",
       "      <td>...</td>\n",
       "      <td>155422.0</td>\n",
       "      <td>161449.0</td>\n",
       "      <td>1.0</td>\n",
       "      <td>0</td>\n",
       "      <td>ST</td>\n",
       "      <td>0.0</td>\n",
       "      <td>3988.0</td>\n",
       "      <td>1</td>\n",
       "      <td>0</td>\n",
       "      <td>1</td>\n",
       "    </tr>\n",
       "    <tr>\n",
       "      <th>3</th>\n",
       "      <td>58</td>\n",
       "      <td>CHI</td>\n",
       "      <td>['huh', 'right', 'there', 'see', 'his', 'legs'...</td>\n",
       "      <td>['co', 'adv', 'adv', 'v', 'det:poss', 'n', 'v'...</td>\n",
       "      <td>0.5</td>\n",
       "      <td>Bloom</td>\n",
       "      <td>/home/mitja/data/CHILDES/Bloom/Peter/020324.cha</td>\n",
       "      <td>Bloom_Peter</td>\n",
       "      <td>MOT</td>\n",
       "      <td>169064.0</td>\n",
       "      <td>...</td>\n",
       "      <td>172202.0</td>\n",
       "      <td>173521.0</td>\n",
       "      <td>1.0</td>\n",
       "      <td>1</td>\n",
       "      <td>AD</td>\n",
       "      <td>0.0</td>\n",
       "      <td>3138.0</td>\n",
       "      <td>1</td>\n",
       "      <td>0</td>\n",
       "      <td>1</td>\n",
       "    </tr>\n",
       "    <tr>\n",
       "      <th>4</th>\n",
       "      <td>78</td>\n",
       "      <td>CHI</td>\n",
       "      <td>['hi', 'jenny', 'how', 'you', 'fine', 'hi', 'h...</td>\n",
       "      <td>['co', 'n:prop', 'pro:rel', 'pro:per', 'adv', ...</td>\n",
       "      <td>0.5</td>\n",
       "      <td>Bloom</td>\n",
       "      <td>/home/mitja/data/CHILDES/Bloom/Peter/020324.cha</td>\n",
       "      <td>Bloom_Peter</td>\n",
       "      <td>MOT</td>\n",
       "      <td>243831.0</td>\n",
       "      <td>...</td>\n",
       "      <td>249125.0</td>\n",
       "      <td>249641.0</td>\n",
       "      <td>1.0</td>\n",
       "      <td>1</td>\n",
       "      <td>AA</td>\n",
       "      <td>0.0</td>\n",
       "      <td>5294.0</td>\n",
       "      <td>1</td>\n",
       "      <td>0</td>\n",
       "      <td>1</td>\n",
       "    </tr>\n",
       "  </tbody>\n",
       "</table>\n",
       "<p>5 rows × 33 columns</p>\n",
       "</div>"
      ],
      "text/plain": [
       "   utterance_id speaker_code  \\\n",
       "0            28          CHI   \n",
       "1            50          CHI   \n",
       "2            52          CHI   \n",
       "3            58          CHI   \n",
       "4            78          CHI   \n",
       "\n",
       "                                              tokens  \\\n",
       "0       [\"let's\", 'get', 'some', 'glue', 'too', '.']   \n",
       "1           ['i', 'get', 'some', 'glue', 'too', '.']   \n",
       "2                                    ['broken', '.']   \n",
       "3  ['huh', 'right', 'there', 'see', 'his', 'legs'...   \n",
       "4  ['hi', 'jenny', 'how', 'you', 'fine', 'hi', 'h...   \n",
       "\n",
       "                                                 pos  age corpus  \\\n",
       "0            ['v', 'pro:obj', 'v', 'qn', 'n', 'adv']  0.5  Bloom   \n",
       "1                 ['pro:sub', 'v', 'qn', 'n', 'adv']  0.5  Bloom   \n",
       "2                                           ['part']  0.5  Bloom   \n",
       "3  ['co', 'adv', 'adv', 'v', 'det:poss', 'n', 'v'...  0.5  Bloom   \n",
       "4  ['co', 'n:prop', 'pro:rel', 'pro:per', 'adv', ...  0.5  Bloom   \n",
       "\n",
       "                                   transcript_file   child_name  \\\n",
       "0  /home/mitja/data/CHILDES/Bloom/Peter/020324.cha  Bloom_Peter   \n",
       "1  /home/mitja/data/CHILDES/Bloom/Peter/020324.cha  Bloom_Peter   \n",
       "2  /home/mitja/data/CHILDES/Bloom/Peter/020324.cha  Bloom_Peter   \n",
       "3  /home/mitja/data/CHILDES/Bloom/Peter/020324.cha  Bloom_Peter   \n",
       "4  /home/mitja/data/CHILDES/Bloom/Peter/020324.cha  Bloom_Peter   \n",
       "\n",
       "  speaker_code_next  start_time_next  ... follow_up_start_time  \\\n",
       "0               MOT          96687.0  ...              97154.0   \n",
       "1               MOT         148262.0  ...             150114.0   \n",
       "2               MOT         151434.0  ...             155422.0   \n",
       "3               MOT         169064.0  ...             172202.0   \n",
       "4               MOT         243831.0  ...             249125.0   \n",
       "\n",
       "   follow_up_end_time  follow_up_is_speech_related  follow_up_is_intelligible  \\\n",
       "0            100026.0                          1.0                          1   \n",
       "1            151434.0                          1.0                          0   \n",
       "2            161449.0                          1.0                          0   \n",
       "3            173521.0                          1.0                          1   \n",
       "4            249641.0                          1.0                          1   \n",
       "\n",
       "   follow_up_speech_act response_latency response_latency_follow_up  \\\n",
       "0                    PF              0.0                      467.0   \n",
       "1                    AA              0.0                     1852.0   \n",
       "2                    ST              0.0                     3988.0   \n",
       "3                    AD              0.0                     3138.0   \n",
       "4                    AA              0.0                     5294.0   \n",
       "\n",
       "   has_response  response_is_clarification_request  pos_feedback  \n",
       "0             1                                  0             1  \n",
       "1             0                                  0             0  \n",
       "2             1                                  0             1  \n",
       "3             1                                  0             1  \n",
       "4             1                                  0             1  \n",
       "\n",
       "[5 rows x 33 columns]"
      ]
     },
     "execution_count": 32,
     "metadata": {},
     "output_type": "execute_result"
    }
   ],
   "source": [
    "# Load data\n",
    "conversations = pd.read_csv(\"results/intelligibility/conversations.csv\")\n",
    "conversations_melted = pd.read_csv(\"results/intelligibility/conversations_melted.csv\")\n",
    "\n",
    "# convert True/False to 0/1:\n",
    "conversations.replace({False: 0, True: 1}, inplace=True)\n",
    "conversations_melted.replace({False: 0, True: 1}, inplace=True)\n",
    "\n",
    "# normalize age\n",
    "min_age, max_age = conversations[\"age\"].min(), conversations[\"age\"].max()\n",
    "conversations[\"age\"] = (conversations[\"age\"] - min_age) / (max_age - min_age) * (1 - 0)\n",
    "conversations_melted[\"age\"] = (conversations_melted[\"age\"] - min_age) / (max_age - min_age) * (1 - 0)\n",
    "\n",
    "conversations.head()"
   ]
  },
  {
   "cell_type": "markdown",
   "metadata": {},
   "source": [
    "## Quality of communicative feedback/ Caregiver contingency\n"
   ]
  },
  {
   "cell_type": "markdown",
   "metadata": {},
   "source": [
    "### Timing:"
   ]
  },
  {
   "cell_type": "code",
   "execution_count": 5,
   "metadata": {
    "pycharm": {
     "is_executing": true
    }
   },
   "outputs": [
    {
     "name": "stderr",
     "output_type": "stream",
     "text": [
      "R[write to console]: Loading required package: Matrix\n",
      "\n"
     ]
    },
    {
     "name": "stdout",
     "output_type": "stream",
     "text": [
      "Generalized linear mixed model fit by maximum likelihood (Laplace\n",
      "  Approximation) [glmerMod]\n",
      " Family: binomial  ( logit )\n",
      "Formula: has_response ~ utt_is_intelligible * age + (1 | child_name)\n",
      "   Data: conversations\n",
      "\n",
      "      AIC       BIC    logLik  deviance  df.resid \n",
      " 288574.9  288628.6 -144282.4  288564.9    341501 \n",
      "\n",
      "Scaled residuals: \n",
      "     Min       1Q   Median       3Q      Max \n",
      "-24.3482   0.0985   0.4977   0.5367   3.9629 \n",
      "\n",
      "Random effects:\n",
      " Groups     Name        Variance Std.Dev.\n",
      " child_name (Intercept) 3.644    1.909   \n",
      "Number of obs: 341506, groups:  child_name, 45\n",
      "\n",
      "Fixed effects:\n",
      "                        Estimate Std. Error z value Pr(>|z|)    \n",
      "(Intercept)              2.36294    0.06879  34.349   <2e-16 ***\n",
      "utt_is_intelligible      0.80023    0.02886  27.728   <2e-16 ***\n",
      "age                      0.79530    0.04718  16.858   <2e-16 ***\n",
      "utt_is_intelligible:age  0.10948    0.05063   2.162   0.0306 *  \n",
      "---\n",
      "Signif. codes:  0 ‘***’ 0.001 ‘**’ 0.01 ‘*’ 0.05 ‘.’ 0.1 ‘ ’ 1\n",
      "\n",
      "Correlation of Fixed Effects:\n",
      "            (Intr) utt_s_ age   \n",
      "utt_s_ntllg  0.027              \n",
      "age          0.012  0.646       \n",
      "utt_s_ntll: -0.031 -0.852 -0.791\n"
     ]
    }
   ],
   "source": [
    "%%R -i conversations\n",
    "library(lme4)\n",
    "\n",
    "m_caregiver_contingency<-glmer('has_response ~ utt_is_intelligible * age + (1 | child_name)', data=conversations, family=binomial)\n",
    "print(summary(m_caregiver_contingency))\n"
   ]
  },
  {
   "cell_type": "markdown",
   "metadata": {},
   "source": [
    "### Clarification requests"
   ]
  },
  {
   "cell_type": "code",
   "execution_count": 6,
   "metadata": {},
   "outputs": [],
   "source": [
    "conversations[\"response_is_no_clarification_request\"] = conversations.response_is_clarification_request.replace({0:1, 1:0})\n"
   ]
  },
  {
   "cell_type": "code",
   "execution_count": 7,
   "metadata": {},
   "outputs": [
    {
     "name": "stdout",
     "output_type": "stream",
     "text": [
      "Generalized linear mixed model fit by maximum likelihood (Laplace\n",
      "  Approximation) [glmerMod]\n",
      " Family: binomial  ( logit )\n",
      "Formula: response_is_clarification_request ~ utt_is_intelligible * age +  \n",
      "    (1 | child_name)\n",
      "   Data: conversations\n",
      "\n",
      "     AIC      BIC   logLik deviance df.resid \n",
      " 20855.6  20909.3 -10422.8  20845.6   341501 \n",
      "\n",
      "Scaled residuals: \n",
      "   Min     1Q Median     3Q    Max \n",
      "-0.355 -0.072 -0.070 -0.028 36.763 \n",
      "\n",
      "Random effects:\n",
      " Groups     Name        Variance Std.Dev.\n",
      " child_name (Intercept) 0.7563   0.8696  \n",
      "Number of obs: 341506, groups:  child_name, 45\n",
      "\n",
      "Fixed effects:\n",
      "                        Estimate Std. Error z value Pr(>|z|)    \n",
      "(Intercept)              -3.6178     0.1485 -24.367   <2e-16 ***\n",
      "utt_is_intelligible      -1.9172     0.0971 -19.744   <2e-16 ***\n",
      "age                      -0.1762     0.1643  -1.073    0.283    \n",
      "utt_is_intelligible:age   0.0634     0.1718   0.369    0.712    \n",
      "---\n",
      "Signif. codes:  0 ‘***’ 0.001 ‘**’ 0.01 ‘*’ 0.05 ‘.’ 0.1 ‘ ’ 1\n",
      "\n",
      "Correlation of Fixed Effects:\n",
      "            (Intr) utt_s_ age   \n",
      "utt_s_ntllg -0.191              \n",
      "age         -0.351  0.389       \n",
      "utt_s_ntll:  0.164 -0.851 -0.545\n"
     ]
    }
   ],
   "source": [
    "%%R -i conversations\n",
    "library(lme4)\n",
    "\n",
    "# TODO: filter out cases without responses?\n",
    "m_caregiver_contingency<-glmer('response_is_clarification_request ~ utt_is_intelligible * age + (1 | child_name)', data=conversations, family=binomial)\n",
    "print(summary(m_caregiver_contingency))"
   ]
  },
  {
   "cell_type": "markdown",
   "metadata": {},
   "source": [
    "### Combined (Positive Feedback = No pause, no clarification request)"
   ]
  },
  {
   "cell_type": "code",
   "execution_count": null,
   "metadata": {},
   "outputs": [],
   "source": [
    "%%R -i conversations\n",
    "library(lme4)\n",
    "\n",
    "m_caregiver_contingency<-glmer('pos_feedback ~ utt_is_intelligible * age + (1 | child_name)', data=conversations, family=binomial)\n",
    "print(summary(m_caregiver_contingency))"
   ]
  },
  {
   "cell_type": "markdown",
   "metadata": {},
   "source": [
    "## Effect of communicative feedback\n",
    "### Positive Feedback: Timing"
   ]
  },
  {
   "cell_type": "code",
   "execution_count": 12,
   "metadata": {
    "pycharm": {
     "is_executing": true
    }
   },
   "outputs": [
    {
     "name": "stdout",
     "output_type": "stream",
     "text": [
      "Generalized linear mixed model fit by maximum likelihood (Laplace\n",
      "  Approximation) [glmerMod]\n",
      " Family: binomial  ( logit )\n",
      "Formula: follow_up_is_intelligible ~ has_response * age + (1 | child_name)\n",
      "   Data: conversations\n",
      "\n",
      "     AIC      BIC   logLik deviance df.resid \n",
      "191092.7 191146.4 -95541.4 191082.7   341501 \n",
      "\n",
      "Scaled residuals: \n",
      "     Min       1Q   Median       3Q      Max \n",
      "-10.3677   0.1985   0.2490   0.3245  10.8294 \n",
      "\n",
      "Random effects:\n",
      " Groups     Name        Variance Std.Dev.\n",
      " child_name (Intercept) 4.06     2.015   \n",
      "Number of obs: 341506, groups:  child_name, 45\n",
      "\n",
      "Fixed effects:\n",
      "                 Estimate Std. Error z value Pr(>|z|)    \n",
      "(Intercept)      -0.15185    0.10862  -1.398    0.162    \n",
      "has_response      0.57887    0.03441  16.821  < 2e-16 ***\n",
      "age               2.40294    0.05918  40.602  < 2e-16 ***\n",
      "has_response:age  0.31376    0.06552   4.789 1.68e-06 ***\n",
      "---\n",
      "Signif. codes:  0 ‘***’ 0.001 ‘**’ 0.01 ‘*’ 0.05 ‘.’ 0.1 ‘ ’ 1\n",
      "\n",
      "Correlation of Fixed Effects:\n",
      "            (Intr) hs_rsp age   \n",
      "has_respons -0.062              \n",
      "age         -0.100  0.706       \n",
      "has_rspns:g  0.072 -0.898 -0.792\n"
     ]
    }
   ],
   "source": [
    "%%R -i conversations\n",
    "library(lme4)\n",
    "\n",
    "m_child_contingency<-glmer('follow_up_is_intelligible ~ has_response * age + (1 | child_name)', data=conversations, family=binomial)\n",
    "print(summary(m_child_contingency))"
   ]
  },
  {
   "cell_type": "code",
   "execution_count": 18,
   "metadata": {},
   "outputs": [
    {
     "name": "stdout",
     "output_type": "stream",
     "text": [
      "Generalized linear mixed model fit by maximum likelihood (Laplace\n",
      "  Approximation) [glmerMod]\n",
      " Family: binomial  ( logit )\n",
      "Formula: follow_up_is_intelligible ~ has_response * age + (1 | child_name)\n",
      "   Data: conversations_child_intelligible\n",
      "\n",
      "      AIC       BIC    logLik  deviance  df.resid \n",
      " 235203.7  235256.5 -117596.9  235193.7    280874 \n",
      "\n",
      "Scaled residuals: \n",
      "    Min      1Q  Median      3Q     Max \n",
      "-4.8729  0.3423  0.3731  0.4486  2.1207 \n",
      "\n",
      "Random effects:\n",
      " Groups     Name        Variance Std.Dev.\n",
      " child_name (Intercept) 1.403    1.185   \n",
      "Number of obs: 280879, groups:  child_name, 49\n",
      "\n",
      "Fixed effects:\n",
      "                 Estimate Std. Error z value Pr(>|z|)    \n",
      "(Intercept)       0.65018    0.10077   6.452  1.1e-10 ***\n",
      "has_response      0.40953    0.03242  12.630  < 2e-16 ***\n",
      "age               0.42758    0.04782   8.941  < 2e-16 ***\n",
      "has_response:age -0.08326    0.05716  -1.457    0.145    \n",
      "---\n",
      "Signif. codes:  0 ‘***’ 0.001 ‘**’ 0.01 ‘*’ 0.05 ‘.’ 0.1 ‘ ’ 1\n",
      "\n",
      "Correlation of Fixed Effects:\n",
      "            (Intr) hs_rsp age   \n",
      "has_respons -0.085              \n",
      "age         -0.080  0.685       \n",
      "has_rspns:g  0.079 -0.934 -0.743\n"
     ]
    }
   ],
   "source": [
    "%%R -i conversations\n",
    "library(lme4)\n",
    "\n",
    "conversations_child_intelligible = subset(conversations, utt_is_intelligible==1)\n",
    "\n",
    "m_child_contingency<-glmer('follow_up_is_intelligible ~ has_response * age + (1 | child_name)', data=conversations_child_intelligible, family=binomial)\n",
    "print(summary(m_child_contingency))"
   ]
  },
  {
   "cell_type": "markdown",
   "metadata": {
    "pycharm": {
     "is_executing": true
    }
   },
   "source": [
    "### Negative Feedback: Clarification requests"
   ]
  },
  {
   "cell_type": "code",
   "execution_count": 33,
   "metadata": {},
   "outputs": [
    {
     "name": "stdout",
     "output_type": "stream",
     "text": [
      "Generalized linear mixed model fit by maximum likelihood (Laplace\n",
      "  Approximation) [glmerMod]\n",
      " Family: binomial  ( logit )\n",
      "Formula: is_intelligible ~ is_follow_up * age + (1 | child_name) + (1 |  \n",
      "    conversation_id)\n",
      "   Data: conversations_cr\n",
      "Control: glmerControl(optimizer = \"bobyqa\", optCtrl = list(maxfun = 1e+05))\n",
      "\n",
      "     AIC      BIC   logLik deviance df.resid \n",
      "  3087.8   3123.3  -1537.9   3075.8     2728 \n",
      "\n",
      "Scaled residuals: \n",
      "    Min      1Q  Median      3Q     Max \n",
      "-2.3505 -0.6435  0.4090  0.5519  2.3932 \n",
      "\n",
      "Random effects:\n",
      " Groups          Name        Variance Std.Dev.\n",
      " conversation_id (Intercept) 1.028    1.014   \n",
      " child_name      (Intercept) 1.357    1.165   \n",
      "Number of obs: 2734, groups:  conversation_id, 1367; child_name, 40\n",
      "\n",
      "Fixed effects:\n",
      "                 Estimate Std. Error z value Pr(>|z|)    \n",
      "(Intercept)       -0.7037     0.3186  -2.209   0.0272 *  \n",
      "is_follow_up       0.5595     0.2809   1.992   0.0464 *  \n",
      "age                2.3239     0.4352   5.340 9.29e-08 ***\n",
      "is_follow_up:age  -0.7435     0.5190  -1.433   0.1520    \n",
      "---\n",
      "Signif. codes:  0 ‘***’ 0.001 ‘**’ 0.01 ‘*’ 0.05 ‘.’ 0.1 ‘ ’ 1\n",
      "\n",
      "Correlation of Fixed Effects:\n",
      "            (Intr) is_fl_ age   \n",
      "is_follow_p -0.449              \n",
      "age         -0.678  0.574       \n",
      "is_fllw_p:g  0.424 -0.943 -0.606\n"
     ]
    }
   ],
   "source": [
    "%%R -i conversations_melted\n",
    "library(lme4)\n",
    "\n",
    "conversations_with_response = subset(conversations_melted, has_response == 1)\n",
    "conversations_cr = subset(conversations_with_response, response_is_clarification_request == 1)\n",
    "\n",
    "# TODO: conversation_id or is_follow_up in random effects?\n",
    "m_child_contingency<-glmer('is_intelligible ~ is_follow_up * age + (1 | child_name) + (1 | conversation_id)', data=conversations_cr, family=binomial, control=glmerControl(optimizer=\"bobyqa\", optCtrl=list(maxfun=1e5)))\n",
    "print(summary(m_child_contingency))"
   ]
  },
  {
   "cell_type": "code",
   "execution_count": 34,
   "metadata": {},
   "outputs": [
    {
     "name": "stderr",
     "output_type": "stream",
     "text": [
      "R[write to console]: boundary (singular) fit: see ?isSingular\n",
      "\n"
     ]
    },
    {
     "name": "stdout",
     "output_type": "stream",
     "text": [
      "Generalized linear mixed model fit by maximum likelihood (Laplace\n",
      "  Approximation) [glmerMod]\n",
      " Family: binomial  ( logit )\n",
      "Formula: is_intelligible ~ response_is_clarification_request * is_follow_up +  \n",
      "    (1 | age) + (1 | child_name) + (1 | is_follow_up)\n",
      "   Data: conversations_with_response\n",
      "Control: glmerControl(optimizer = \"bobyqa\", optCtrl = list(maxfun = 10000))\n",
      "\n",
      "      AIC       BIC    logLik  deviance  df.resid \n",
      " 389811.9  389889.6 -194898.9  389797.9    488613 \n",
      "\n",
      "Scaled residuals: \n",
      "    Min      1Q  Median      3Q     Max \n",
      "-5.1061  0.3220  0.3396  0.3824  8.4581 \n",
      "\n",
      "Random effects:\n",
      " Groups       Name        Variance Std.Dev.\n",
      " child_name   (Intercept) 2.1763   1.4752  \n",
      " age          (Intercept) 0.2402   0.4902  \n",
      " is_follow_up (Intercept) 0.0000   0.0000  \n",
      "Number of obs: 488620, groups:  child_name, 45; age, 7; is_follow_up, 2\n",
      "\n",
      "Fixed effects:\n",
      "                                                Estimate Std. Error z value\n",
      "(Intercept)                                     0.886203   0.076206  11.629\n",
      "response_is_clarification_request              -0.873817   0.043050 -20.298\n",
      "is_follow_up                                   -0.026068   0.008194  -3.181\n",
      "response_is_clarification_request:is_follow_up  0.181846   0.055614   3.270\n",
      "                                               Pr(>|z|)    \n",
      "(Intercept)                                     < 2e-16 ***\n",
      "response_is_clarification_request               < 2e-16 ***\n",
      "is_follow_up                                    0.00147 ** \n",
      "response_is_clarification_request:is_follow_up  0.00108 ** \n",
      "---\n",
      "Signif. codes:  0 ‘***’ 0.001 ‘**’ 0.01 ‘*’ 0.05 ‘.’ 0.1 ‘ ’ 1\n",
      "\n",
      "Correlation of Fixed Effects:\n",
      "            (Intr) rsp___ is_fl_\n",
      "rspns_s_cl_ -0.079              \n",
      "is_follow_p -0.023  0.022       \n",
      "rspns___:__  0.138 -0.483 -0.057\n",
      "optimizer (bobyqa) convergence code: 0 (OK)\n",
      "boundary (singular) fit: see ?isSingular\n",
      "\n"
     ]
    }
   ],
   "source": [
    "%%R -i conversations_melted\n",
    "library(lme4)\n",
    "\n",
    "conversations_with_response = subset(conversations_melted, has_response == 1)\n",
    "\n",
    "\n",
    "m_child_contingency<-glmer('is_intelligible ~ response_is_clarification_request * is_follow_up + (1 | age) + (1 | child_name) + (1 | is_follow_up)', data=conversations_with_response, family=binomial, control=glmerControl(optimizer=\"bobyqa\", optCtrl=list(maxfun=1e4)))\n",
    "print(summary(m_child_contingency))"
   ]
  },
  {
   "cell_type": "code",
   "execution_count": null,
   "metadata": {},
   "outputs": [],
   "source": []
  },
  {
   "cell_type": "code",
   "execution_count": null,
   "metadata": {},
   "outputs": [],
   "source": []
  }
 ],
 "metadata": {
  "kernelspec": {
   "display_name": "Python 3",
   "language": "python",
   "name": "python3"
  },
  "language_info": {
   "codemirror_mode": {
    "name": "ipython",
    "version": 3
   },
   "file_extension": ".py",
   "mimetype": "text/x-python",
   "name": "python",
   "nbconvert_exporter": "python",
   "pygments_lexer": "ipython3",
   "version": "3.7.7"
  }
 },
 "nbformat": 4,
 "nbformat_minor": 4
}